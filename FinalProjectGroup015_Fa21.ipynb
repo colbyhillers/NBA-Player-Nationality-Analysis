{
 "cells": [
  {
   "cell_type": "markdown",
   "metadata": {
    "id": "RwevTXpnLe-2"
   },
   "source": [
    "# COGS 108 - Data Checkpoint"
   ]
  },
  {
   "cell_type": "markdown",
   "metadata": {
    "id": "fYm5jHFFDVEO"
   },
   "source": [
    "## Permissions\n",
    "Place an X in the appropriate bracket below to specify if you would like your group's project to be made available to the public. (Note that student names will be included (but PIDs will be scraped from any groups who include their PIDs).\n",
    "\n",
    "- [X] YES - make available\n",
    "- [ ] NO - keep private"
   ]
  },
  {
   "cell_type": "markdown",
   "metadata": {
    "id": "zRReqHM5Le-8"
   },
   "source": [
    "# Names\n",
    "\n",
    "- Colby Hillers\n",
    "- Calvin Cheung\n",
    "- Jorge Mendoza\n",
    "- Javon Maxie\n",
    "- Hoang Nguyen"
   ]
  },
  {
   "cell_type": "markdown",
   "metadata": {
    "id": "_785Z88DOtV2"
   },
   "source": [
    "# Overview\n",
    "\n",
    "**TODO: Fill this out**\n",
    "\n",
    "Detailed overview of our project and results"
   ]
  },
  {
   "cell_type": "markdown",
   "metadata": {
    "id": "_HL6t71WLe-9"
   },
   "source": [
    "<a id='research_question'></a>\n",
    "# Research Question"
   ]
  },
  {
   "cell_type": "markdown",
   "metadata": {
    "id": "8yVGyR26Le--"
   },
   "source": [
    "In the NBA, over the regular season, do international players have a higher Individual Efficiency Metric (EFF), a metric that takes into account points, rebounds, assists, steals, blocks, missed field goals and free throws, turnovers, and games played, than players born in the United States?"
   ]
  },
  {
   "cell_type": "markdown",
   "metadata": {
    "id": "9z3d_OVlPFXI"
   },
   "source": [
    "# Background & Prior Work\n",
    "\n",
    " The dominance of international talent such as Luka Doncic, Nikola Jokic, and Giannis Antetokounmpo in the National Basketball Association (NBA) is impossible to ignore. These players, however, were only a few of the standout international players. This past season, six international players were indoctrinated to the All-NBA Team, an honor granted to the overall best players in the league for that season [1]. The presence of international talent in the NBA has also seen a steady incline as, in the league's first season in 1946-47, there were a mere five international players compared to a record 113 international players at the start of the 2016-17 season [1]. After seeing these statistics, it becomes clear that international players are undoubtedly leaving their mark and making history in the league. As fans of the NBA, we became curious and set out to compare the performances of international and national talent in the league.\n",
    " \n",
    " In an article from HoopsHype, a branch of USA Today Sports, Frank Urbina constructs a hypothetical roster of players for a USA vs. Rest of the World game with the USA roster consisting of the best USA NBA players and the Rest of the World roster consisting of the best international NBA players. Urbina believes the international team have the advantage in playmaking and rebounding while US players have the edge when it comes to shooting and athleticism [2]. Urbina stresses how close he thinks the matchup would be, but overall believes that team USA would have the slight edge [2]. The matchup Urbina has constructed is only hypothetical and inconclusive in which he makes use of speculation to compare how players would match up against each other. In our study, we plan to attach empirical data to these players to see how they truly compare against each other.\n",
    "  \n",
    "  On the subject of calculating a player's performance, an article from Watts Basketball discussing how professionals in the league calculate player efficiency will be of use to us. We  decided to go with the Efficiency Metric (EFF) which adds up total points, rebounds, assists, blocks, and steals, while also accounting for turnovers and missed field goals and free throws [3]. We will then divide this score by the total amount of minutes played throughout the regular season for each individual player [3]. We plan to do this for each season so we can also track how player performance fluctuates from season to season. This formula aids in our study as it gives us a method of attaching a quantitative value to a player in order to ensure we have a fair comparison.\n",
    "\n",
    "References:\n",
    "- 1) https://www.nba.com/news/nba-rosters-feature-109-international-player\n",
    "- 2) https://hoopshype.com/lists/nba-all-star-game-theoretical-usa-vs-world/\n",
    "- 3) https://wattsbasketball.com/blog/how-to-calculate-player-efficiency-rating"
   ]
  },
  {
   "cell_type": "markdown",
   "metadata": {
    "id": "HbUz6YnLPj3m"
   },
   "source": [
    "# Hypothesis\n",
    "\n",
    "When compared to national players, international players need to make a much bigger commitment when declaring for the NBA draft. We predict that players born in the US will, on average, have a higher EFF rating when compared to international players mainly because of location. American players will be playing on familiar courts while international players will be on foreign courts. Furthermore, international leagues have slight differences in rules and regulations, leaving international players with a couple extra hurdles to overcome."
   ]
  },
  {
   "cell_type": "markdown",
   "metadata": {
    "id": "DDRpPNLDLe-_"
   },
   "source": [
    "# Dataset(s)"
   ]
  },
  {
   "cell_type": "markdown",
   "metadata": {
    "id": "xBV87Q7SLe-_"
   },
   "source": [
    "\n",
    "- Dataset Name: Basketball Players Stats. Extended analysis.\n",
    "- Link to the dataset: https://www.kaggle.com/isaienkov/basketball-players-stats-extended-analysis/data\n",
    "- Number of observations: 53,949\n",
    "\n",
    "This dataset includes the necessary stats and attributes for us to calculate the EFF for each player in the NBA since the 1999-2000 season."
   ]
  },
  {
   "cell_type": "markdown",
   "metadata": {
    "id": "O4hbCp_TLe_A"
   },
   "source": [
    "# Setup"
   ]
  },
  {
   "cell_type": "code",
   "execution_count": 1,
   "metadata": {
    "id": "qcxJvpufLe_B"
   },
   "outputs": [],
   "source": [
    "## YOUR CODE HERE\n",
    "import numpy as np\n",
    "import pandas as pd\n",
    "import seaborn as sns\n",
    "import matplotlib.pyplot as plt\n",
    "from matplotlib import rcParams\n",
    "\n",
    "pd.options.mode.chained_assignment = None  # turn off 'SettingWithCopyWarning'"
   ]
  },
  {
   "cell_type": "markdown",
   "metadata": {
    "id": "544WzsvyLe_D"
   },
   "source": [
    "# Data Cleaning"
   ]
  },
  {
   "cell_type": "markdown",
   "metadata": {
    "id": "eQI_x-iqLe_E"
   },
   "source": [
    "**TODO: More detail in steps taken**\n",
    "\n",
    "Describe your data cleaning steps here.\n",
    "\n",
    "* Explore the data by checking the shape and info of the dataset\n",
    "* Check for missing values\n",
    "* Filter data based on regular season\n",
    "* Drop irrelevant columns\n",
    "* Adding new columns for analysis (Missed FG, Missed FT, and EFF)"
   ]
  },
  {
   "cell_type": "code",
   "execution_count": 2,
   "metadata": {
    "colab": {
     "base_uri": "https://localhost:8080/",
     "height": 347
    },
    "id": "MxkZQM8lMc0a",
    "outputId": "4db05580-7940-4856-9485-802e145315ac"
   },
   "outputs": [
    {
     "data": {
      "text/html": [
       "<div>\n",
       "<style scoped>\n",
       "    .dataframe tbody tr th:only-of-type {\n",
       "        vertical-align: middle;\n",
       "    }\n",
       "\n",
       "    .dataframe tbody tr th {\n",
       "        vertical-align: top;\n",
       "    }\n",
       "\n",
       "    .dataframe thead th {\n",
       "        text-align: right;\n",
       "    }\n",
       "</style>\n",
       "<table border=\"1\" class=\"dataframe\">\n",
       "  <thead>\n",
       "    <tr style=\"text-align: right;\">\n",
       "      <th></th>\n",
       "      <th>League</th>\n",
       "      <th>Season</th>\n",
       "      <th>Stage</th>\n",
       "      <th>Player</th>\n",
       "      <th>Team</th>\n",
       "      <th>GP</th>\n",
       "      <th>MIN</th>\n",
       "      <th>FGM</th>\n",
       "      <th>FGA</th>\n",
       "      <th>3PM</th>\n",
       "      <th>...</th>\n",
       "      <th>birth_date</th>\n",
       "      <th>height</th>\n",
       "      <th>height_cm</th>\n",
       "      <th>weight</th>\n",
       "      <th>weight_kg</th>\n",
       "      <th>nationality</th>\n",
       "      <th>high_school</th>\n",
       "      <th>draft_round</th>\n",
       "      <th>draft_pick</th>\n",
       "      <th>draft_team</th>\n",
       "    </tr>\n",
       "  </thead>\n",
       "  <tbody>\n",
       "    <tr>\n",
       "      <th>0</th>\n",
       "      <td>NBA</td>\n",
       "      <td>1999 - 2000</td>\n",
       "      <td>Regular_Season</td>\n",
       "      <td>Shaquille O'Neal</td>\n",
       "      <td>LAL</td>\n",
       "      <td>79</td>\n",
       "      <td>3163.0</td>\n",
       "      <td>956</td>\n",
       "      <td>1665</td>\n",
       "      <td>0</td>\n",
       "      <td>...</td>\n",
       "      <td>Mar 6, 1972</td>\n",
       "      <td>7-1</td>\n",
       "      <td>216.0</td>\n",
       "      <td>325.0</td>\n",
       "      <td>147.0</td>\n",
       "      <td>United States</td>\n",
       "      <td>Robert G. Cole High School</td>\n",
       "      <td>1.0</td>\n",
       "      <td>1.0</td>\n",
       "      <td>Orlando Magic</td>\n",
       "    </tr>\n",
       "    <tr>\n",
       "      <th>1</th>\n",
       "      <td>NBA</td>\n",
       "      <td>1999 - 2000</td>\n",
       "      <td>Regular_Season</td>\n",
       "      <td>Vince Carter</td>\n",
       "      <td>TOR</td>\n",
       "      <td>82</td>\n",
       "      <td>3126.0</td>\n",
       "      <td>788</td>\n",
       "      <td>1696</td>\n",
       "      <td>95</td>\n",
       "      <td>...</td>\n",
       "      <td>Jan 26, 1977</td>\n",
       "      <td>6-6</td>\n",
       "      <td>198.0</td>\n",
       "      <td>220.0</td>\n",
       "      <td>100.0</td>\n",
       "      <td>United States</td>\n",
       "      <td>Mainland High School</td>\n",
       "      <td>1.0</td>\n",
       "      <td>5.0</td>\n",
       "      <td>Golden State Warriors</td>\n",
       "    </tr>\n",
       "    <tr>\n",
       "      <th>2</th>\n",
       "      <td>NBA</td>\n",
       "      <td>1999 - 2000</td>\n",
       "      <td>Regular_Season</td>\n",
       "      <td>Karl Malone</td>\n",
       "      <td>UTA</td>\n",
       "      <td>82</td>\n",
       "      <td>2947.0</td>\n",
       "      <td>752</td>\n",
       "      <td>1476</td>\n",
       "      <td>2</td>\n",
       "      <td>...</td>\n",
       "      <td>Jul 24, 1963</td>\n",
       "      <td>6-9</td>\n",
       "      <td>206.0</td>\n",
       "      <td>265.0</td>\n",
       "      <td>120.0</td>\n",
       "      <td>United States</td>\n",
       "      <td>Summerfield High School</td>\n",
       "      <td>1.0</td>\n",
       "      <td>13.0</td>\n",
       "      <td>Utah Jazz</td>\n",
       "    </tr>\n",
       "    <tr>\n",
       "      <th>3</th>\n",
       "      <td>NBA</td>\n",
       "      <td>1999 - 2000</td>\n",
       "      <td>Regular_Season</td>\n",
       "      <td>Allen Iverson</td>\n",
       "      <td>PHI</td>\n",
       "      <td>70</td>\n",
       "      <td>2853.0</td>\n",
       "      <td>729</td>\n",
       "      <td>1733</td>\n",
       "      <td>89</td>\n",
       "      <td>...</td>\n",
       "      <td>Jun 7, 1975</td>\n",
       "      <td>6-0</td>\n",
       "      <td>183.0</td>\n",
       "      <td>165.0</td>\n",
       "      <td>75.0</td>\n",
       "      <td>United States</td>\n",
       "      <td>Bethel High School</td>\n",
       "      <td>1.0</td>\n",
       "      <td>1.0</td>\n",
       "      <td>Philadelphia Sixers</td>\n",
       "    </tr>\n",
       "    <tr>\n",
       "      <th>4</th>\n",
       "      <td>NBA</td>\n",
       "      <td>1999 - 2000</td>\n",
       "      <td>Regular_Season</td>\n",
       "      <td>Gary Payton</td>\n",
       "      <td>SEA</td>\n",
       "      <td>82</td>\n",
       "      <td>3425.0</td>\n",
       "      <td>747</td>\n",
       "      <td>1666</td>\n",
       "      <td>177</td>\n",
       "      <td>...</td>\n",
       "      <td>Jul 23, 1968</td>\n",
       "      <td>6-4</td>\n",
       "      <td>193.0</td>\n",
       "      <td>180.0</td>\n",
       "      <td>82.0</td>\n",
       "      <td>United States</td>\n",
       "      <td>Skyline High School</td>\n",
       "      <td>1.0</td>\n",
       "      <td>2.0</td>\n",
       "      <td>Seattle SuperSonics</td>\n",
       "    </tr>\n",
       "  </tbody>\n",
       "</table>\n",
       "<p>5 rows × 34 columns</p>\n",
       "</div>"
      ],
      "text/plain": [
       "  League       Season           Stage            Player Team  GP     MIN  FGM  \\\n",
       "0    NBA  1999 - 2000  Regular_Season  Shaquille O'Neal  LAL  79  3163.0  956   \n",
       "1    NBA  1999 - 2000  Regular_Season      Vince Carter  TOR  82  3126.0  788   \n",
       "2    NBA  1999 - 2000  Regular_Season       Karl Malone  UTA  82  2947.0  752   \n",
       "3    NBA  1999 - 2000  Regular_Season     Allen Iverson  PHI  70  2853.0  729   \n",
       "4    NBA  1999 - 2000  Regular_Season       Gary Payton  SEA  82  3425.0  747   \n",
       "\n",
       "    FGA  3PM  ...    birth_date  height  height_cm  weight  weight_kg  \\\n",
       "0  1665    0  ...   Mar 6, 1972     7-1      216.0   325.0      147.0   \n",
       "1  1696   95  ...  Jan 26, 1977     6-6      198.0   220.0      100.0   \n",
       "2  1476    2  ...  Jul 24, 1963     6-9      206.0   265.0      120.0   \n",
       "3  1733   89  ...   Jun 7, 1975     6-0      183.0   165.0       75.0   \n",
       "4  1666  177  ...  Jul 23, 1968     6-4      193.0   180.0       82.0   \n",
       "\n",
       "     nationality                  high_school  draft_round  draft_pick  \\\n",
       "0  United States  Robert G. Cole High School           1.0         1.0   \n",
       "1  United States         Mainland High School          1.0         5.0   \n",
       "2  United States      Summerfield High School          1.0        13.0   \n",
       "3  United States          Bethel High School           1.0         1.0   \n",
       "4  United States          Skyline High School          1.0         2.0   \n",
       "\n",
       "              draft_team  \n",
       "0          Orlando Magic  \n",
       "1  Golden State Warriors  \n",
       "2              Utah Jazz  \n",
       "3    Philadelphia Sixers  \n",
       "4    Seattle SuperSonics  \n",
       "\n",
       "[5 rows x 34 columns]"
      ]
     },
     "execution_count": 2,
     "metadata": {},
     "output_type": "execute_result"
    }
   ],
   "source": [
    "# read the data\n",
    "df = pd.read_csv('players_stats_by_season_full_details.csv')\n",
    "\n",
    "# check the first five rows\n",
    "df.head()"
   ]
  },
  {
   "cell_type": "code",
   "execution_count": 3,
   "metadata": {
    "colab": {
     "base_uri": "https://localhost:8080/"
    },
    "id": "B_Vq1MrDPNig",
    "outputId": "81a537ed-447d-4745-bc67-0f049e5ff1d3"
   },
   "outputs": [
    {
     "data": {
      "text/plain": [
       "(53949, 34)"
      ]
     },
     "execution_count": 3,
     "metadata": {},
     "output_type": "execute_result"
    }
   ],
   "source": [
    "# check the shape of the dataset\n",
    "df.shape"
   ]
  },
  {
   "cell_type": "code",
   "execution_count": 4,
   "metadata": {
    "colab": {
     "base_uri": "https://localhost:8080/"
    },
    "id": "b1HakcGbWYxe",
    "outputId": "88f0c26d-a1ac-428c-a97a-071cfdfeaa1e"
   },
   "outputs": [
    {
     "name": "stdout",
     "output_type": "stream",
     "text": [
      "<class 'pandas.core.frame.DataFrame'>\n",
      "RangeIndex: 53949 entries, 0 to 53948\n",
      "Data columns (total 34 columns):\n",
      " #   Column       Non-Null Count  Dtype  \n",
      "---  ------       --------------  -----  \n",
      " 0   League       53949 non-null  object \n",
      " 1   Season       53949 non-null  object \n",
      " 2   Stage        53949 non-null  object \n",
      " 3   Player       53949 non-null  object \n",
      " 4   Team         53938 non-null  object \n",
      " 5   GP           53949 non-null  int64  \n",
      " 6   MIN          53949 non-null  float64\n",
      " 7   FGM          53949 non-null  int64  \n",
      " 8   FGA          53949 non-null  int64  \n",
      " 9   3PM          53949 non-null  int64  \n",
      " 10  3PA          53949 non-null  int64  \n",
      " 11  FTM          53949 non-null  int64  \n",
      " 12  FTA          53949 non-null  int64  \n",
      " 13  TOV          53949 non-null  int64  \n",
      " 14  PF           53949 non-null  int64  \n",
      " 15  ORB          53949 non-null  int64  \n",
      " 16  DRB          53949 non-null  int64  \n",
      " 17  REB          53949 non-null  int64  \n",
      " 18  AST          53949 non-null  int64  \n",
      " 19  STL          53949 non-null  int64  \n",
      " 20  BLK          53949 non-null  int64  \n",
      " 21  PTS          53949 non-null  int64  \n",
      " 22  birth_year   53631 non-null  float64\n",
      " 23  birth_month  53631 non-null  object \n",
      " 24  birth_date   53631 non-null  object \n",
      " 25  height       53875 non-null  object \n",
      " 26  height_cm    53875 non-null  float64\n",
      " 27  weight       49385 non-null  float64\n",
      " 28  weight_kg    49385 non-null  float64\n",
      " 29  nationality  53942 non-null  object \n",
      " 30  high_school  23683 non-null  object \n",
      " 31  draft_round  10136 non-null  float64\n",
      " 32  draft_pick   10136 non-null  float64\n",
      " 33  draft_team   10136 non-null  object \n",
      "dtypes: float64(7), int64(16), object(11)\n",
      "memory usage: 14.0+ MB\n"
     ]
    }
   ],
   "source": [
    "# check info and datatypes of each column\n",
    "df.info()"
   ]
  },
  {
   "cell_type": "code",
   "execution_count": 5,
   "metadata": {
    "colab": {
     "base_uri": "https://localhost:8080/"
    },
    "id": "pPMdtl9aO5AA",
    "outputId": "2bd1671a-df4c-4d45-9a01-ba63ae0a96f8"
   },
   "outputs": [
    {
     "data": {
      "text/plain": [
       "46113"
      ]
     },
     "execution_count": 5,
     "metadata": {},
     "output_type": "execute_result"
    }
   ],
   "source": [
    "# return the rows with one or more missing data\n",
    "null_rows = df[df.isnull().any(axis=1)] \n",
    "\n",
    "# check for the total of rows with at least one missing data\n",
    "df.isnull().any(axis=1).sum()"
   ]
  },
  {
   "cell_type": "markdown",
   "metadata": {
    "id": "dRmKCRTBoXw6"
   },
   "source": [
    "The columns with missing values are irrelevant for our analysis because they do not indicate players' performance in basketball. "
   ]
  },
  {
   "cell_type": "code",
   "execution_count": 6,
   "metadata": {
    "colab": {
     "base_uri": "https://localhost:8080/"
    },
    "id": "Caf-5F1vWuMc",
    "outputId": "730673f9-be25-4410-e7ca-604da4afc91c"
   },
   "outputs": [
    {
     "data": {
      "text/plain": [
       "League         False\n",
       "Season         False\n",
       "Stage          False\n",
       "Player         False\n",
       "Team            True\n",
       "GP             False\n",
       "MIN            False\n",
       "FGM            False\n",
       "FGA            False\n",
       "3PM            False\n",
       "3PA            False\n",
       "FTM            False\n",
       "FTA            False\n",
       "TOV            False\n",
       "PF             False\n",
       "ORB            False\n",
       "DRB            False\n",
       "REB            False\n",
       "AST            False\n",
       "STL            False\n",
       "BLK            False\n",
       "PTS            False\n",
       "birth_year      True\n",
       "birth_month     True\n",
       "birth_date      True\n",
       "height          True\n",
       "height_cm       True\n",
       "weight          True\n",
       "weight_kg       True\n",
       "nationality     True\n",
       "high_school     True\n",
       "draft_round     True\n",
       "draft_pick      True\n",
       "draft_team      True\n",
       "dtype: bool"
      ]
     },
     "execution_count": 6,
     "metadata": {},
     "output_type": "execute_result"
    }
   ],
   "source": [
    "# check to see which columns have missing data\n",
    "df.isnull().any()"
   ]
  },
  {
   "cell_type": "code",
   "execution_count": 7,
   "metadata": {
    "id": "AC2P1X0KMjvI"
   },
   "outputs": [],
   "source": [
    "# filter the data based on regular season only\n",
    "df = df[(df.Stage == 'Regular_Season')]\n",
    "\n",
    "# slicing to display all rows and remove the last four columns (high_school, draft_round, draft_pick, and, draft_team)\n",
    "# we do not need these four columns for analysis\n",
    "df = df.iloc[:, :30]"
   ]
  },
  {
   "cell_type": "markdown",
   "metadata": {
    "id": "WzPUXf7-ogWj"
   },
   "source": [
    "Luckily, the columns that we removed (or do not care about) happen to contain missing values so we don't need to worry about NaNs. Now, there are no missing values in our data."
   ]
  },
  {
   "cell_type": "code",
   "execution_count": 8,
   "metadata": {
    "colab": {
     "base_uri": "https://localhost:8080/",
     "height": 320
    },
    "id": "_a0smPJYMsnc",
    "outputId": "81dc5aee-b315-486e-b072-d610f70861b1"
   },
   "outputs": [
    {
     "data": {
      "text/html": [
       "<div>\n",
       "<style scoped>\n",
       "    .dataframe tbody tr th:only-of-type {\n",
       "        vertical-align: middle;\n",
       "    }\n",
       "\n",
       "    .dataframe tbody tr th {\n",
       "        vertical-align: top;\n",
       "    }\n",
       "\n",
       "    .dataframe thead th {\n",
       "        text-align: right;\n",
       "    }\n",
       "</style>\n",
       "<table border=\"1\" class=\"dataframe\">\n",
       "  <thead>\n",
       "    <tr style=\"text-align: right;\">\n",
       "      <th></th>\n",
       "      <th>GP</th>\n",
       "      <th>MIN</th>\n",
       "      <th>FGM</th>\n",
       "      <th>FGA</th>\n",
       "      <th>3PM</th>\n",
       "      <th>3PA</th>\n",
       "      <th>FTM</th>\n",
       "      <th>FTA</th>\n",
       "      <th>TOV</th>\n",
       "      <th>PF</th>\n",
       "      <th>ORB</th>\n",
       "      <th>DRB</th>\n",
       "      <th>REB</th>\n",
       "      <th>AST</th>\n",
       "      <th>STL</th>\n",
       "      <th>BLK</th>\n",
       "      <th>PTS</th>\n",
       "    </tr>\n",
       "  </thead>\n",
       "  <tbody>\n",
       "    <tr>\n",
       "      <th>count</th>\n",
       "      <td>4658.000000</td>\n",
       "      <td>4658.000000</td>\n",
       "      <td>4658.000000</td>\n",
       "      <td>4658.000000</td>\n",
       "      <td>4658.000000</td>\n",
       "      <td>4658.000000</td>\n",
       "      <td>4658.000000</td>\n",
       "      <td>4658.000000</td>\n",
       "      <td>4658.000000</td>\n",
       "      <td>4658.000000</td>\n",
       "      <td>4658.000000</td>\n",
       "      <td>4658.000000</td>\n",
       "      <td>4658.000000</td>\n",
       "      <td>4658.000000</td>\n",
       "      <td>4658.000000</td>\n",
       "      <td>4658.000000</td>\n",
       "      <td>4658.000000</td>\n",
       "    </tr>\n",
       "    <tr>\n",
       "      <th>mean</th>\n",
       "      <td>73.176471</td>\n",
       "      <td>1950.109489</td>\n",
       "      <td>311.484113</td>\n",
       "      <td>679.861958</td>\n",
       "      <td>60.455346</td>\n",
       "      <td>167.092958</td>\n",
       "      <td>153.726921</td>\n",
       "      <td>201.062258</td>\n",
       "      <td>112.201159</td>\n",
       "      <td>163.173250</td>\n",
       "      <td>88.767497</td>\n",
       "      <td>255.983255</td>\n",
       "      <td>344.750751</td>\n",
       "      <td>182.651997</td>\n",
       "      <td>61.802490</td>\n",
       "      <td>39.515887</td>\n",
       "      <td>837.150708</td>\n",
       "    </tr>\n",
       "    <tr>\n",
       "      <th>std</th>\n",
       "      <td>8.751048</td>\n",
       "      <td>637.080061</td>\n",
       "      <td>161.071675</td>\n",
       "      <td>343.608427</td>\n",
       "      <td>57.465702</td>\n",
       "      <td>149.342746</td>\n",
       "      <td>116.259952</td>\n",
       "      <td>145.445479</td>\n",
       "      <td>60.100686</td>\n",
       "      <td>52.905317</td>\n",
       "      <td>67.358765</td>\n",
       "      <td>137.791093</td>\n",
       "      <td>193.771635</td>\n",
       "      <td>148.398607</td>\n",
       "      <td>32.540094</td>\n",
       "      <td>39.989813</td>\n",
       "      <td>447.531333</td>\n",
       "    </tr>\n",
       "    <tr>\n",
       "      <th>min</th>\n",
       "      <td>1.000000</td>\n",
       "      <td>0.700000</td>\n",
       "      <td>0.000000</td>\n",
       "      <td>0.000000</td>\n",
       "      <td>0.000000</td>\n",
       "      <td>0.000000</td>\n",
       "      <td>0.000000</td>\n",
       "      <td>0.000000</td>\n",
       "      <td>0.000000</td>\n",
       "      <td>0.000000</td>\n",
       "      <td>0.000000</td>\n",
       "      <td>0.000000</td>\n",
       "      <td>0.000000</td>\n",
       "      <td>0.000000</td>\n",
       "      <td>0.000000</td>\n",
       "      <td>0.000000</td>\n",
       "      <td>0.000000</td>\n",
       "    </tr>\n",
       "    <tr>\n",
       "      <th>25%</th>\n",
       "      <td>69.000000</td>\n",
       "      <td>1473.000000</td>\n",
       "      <td>189.000000</td>\n",
       "      <td>416.250000</td>\n",
       "      <td>3.000000</td>\n",
       "      <td>16.000000</td>\n",
       "      <td>71.000000</td>\n",
       "      <td>94.250000</td>\n",
       "      <td>67.000000</td>\n",
       "      <td>125.000000</td>\n",
       "      <td>36.000000</td>\n",
       "      <td>158.000000</td>\n",
       "      <td>205.000000</td>\n",
       "      <td>77.000000</td>\n",
       "      <td>38.000000</td>\n",
       "      <td>13.000000</td>\n",
       "      <td>495.250000</td>\n",
       "    </tr>\n",
       "    <tr>\n",
       "      <th>50%</th>\n",
       "      <td>75.000000</td>\n",
       "      <td>1955.100000</td>\n",
       "      <td>281.000000</td>\n",
       "      <td>621.000000</td>\n",
       "      <td>51.000000</td>\n",
       "      <td>150.000000</td>\n",
       "      <td>121.000000</td>\n",
       "      <td>162.000000</td>\n",
       "      <td>101.000000</td>\n",
       "      <td>162.000000</td>\n",
       "      <td>68.000000</td>\n",
       "      <td>223.000000</td>\n",
       "      <td>298.000000</td>\n",
       "      <td>136.000000</td>\n",
       "      <td>56.000000</td>\n",
       "      <td>26.000000</td>\n",
       "      <td>751.000000</td>\n",
       "    </tr>\n",
       "    <tr>\n",
       "      <th>75%</th>\n",
       "      <td>80.000000</td>\n",
       "      <td>2439.675000</td>\n",
       "      <td>409.000000</td>\n",
       "      <td>890.000000</td>\n",
       "      <td>99.000000</td>\n",
       "      <td>268.000000</td>\n",
       "      <td>202.000000</td>\n",
       "      <td>265.000000</td>\n",
       "      <td>146.000000</td>\n",
       "      <td>200.000000</td>\n",
       "      <td>125.000000</td>\n",
       "      <td>324.000000</td>\n",
       "      <td>439.000000</td>\n",
       "      <td>242.000000</td>\n",
       "      <td>80.000000</td>\n",
       "      <td>51.000000</td>\n",
       "      <td>1094.000000</td>\n",
       "    </tr>\n",
       "    <tr>\n",
       "      <th>max</th>\n",
       "      <td>85.000000</td>\n",
       "      <td>3485.000000</td>\n",
       "      <td>978.000000</td>\n",
       "      <td>2173.000000</td>\n",
       "      <td>402.000000</td>\n",
       "      <td>1028.000000</td>\n",
       "      <td>756.000000</td>\n",
       "      <td>972.000000</td>\n",
       "      <td>464.000000</td>\n",
       "      <td>371.000000</td>\n",
       "      <td>440.000000</td>\n",
       "      <td>894.000000</td>\n",
       "      <td>1247.000000</td>\n",
       "      <td>925.000000</td>\n",
       "      <td>225.000000</td>\n",
       "      <td>307.000000</td>\n",
       "      <td>2832.000000</td>\n",
       "    </tr>\n",
       "  </tbody>\n",
       "</table>\n",
       "</div>"
      ],
      "text/plain": [
       "                GP          MIN          FGM          FGA          3PM  \\\n",
       "count  4658.000000  4658.000000  4658.000000  4658.000000  4658.000000   \n",
       "mean     73.176471  1950.109489   311.484113   679.861958    60.455346   \n",
       "std       8.751048   637.080061   161.071675   343.608427    57.465702   \n",
       "min       1.000000     0.700000     0.000000     0.000000     0.000000   \n",
       "25%      69.000000  1473.000000   189.000000   416.250000     3.000000   \n",
       "50%      75.000000  1955.100000   281.000000   621.000000    51.000000   \n",
       "75%      80.000000  2439.675000   409.000000   890.000000    99.000000   \n",
       "max      85.000000  3485.000000   978.000000  2173.000000   402.000000   \n",
       "\n",
       "               3PA          FTM          FTA          TOV           PF  \\\n",
       "count  4658.000000  4658.000000  4658.000000  4658.000000  4658.000000   \n",
       "mean    167.092958   153.726921   201.062258   112.201159   163.173250   \n",
       "std     149.342746   116.259952   145.445479    60.100686    52.905317   \n",
       "min       0.000000     0.000000     0.000000     0.000000     0.000000   \n",
       "25%      16.000000    71.000000    94.250000    67.000000   125.000000   \n",
       "50%     150.000000   121.000000   162.000000   101.000000   162.000000   \n",
       "75%     268.000000   202.000000   265.000000   146.000000   200.000000   \n",
       "max    1028.000000   756.000000   972.000000   464.000000   371.000000   \n",
       "\n",
       "               ORB          DRB          REB          AST          STL  \\\n",
       "count  4658.000000  4658.000000  4658.000000  4658.000000  4658.000000   \n",
       "mean     88.767497   255.983255   344.750751   182.651997    61.802490   \n",
       "std      67.358765   137.791093   193.771635   148.398607    32.540094   \n",
       "min       0.000000     0.000000     0.000000     0.000000     0.000000   \n",
       "25%      36.000000   158.000000   205.000000    77.000000    38.000000   \n",
       "50%      68.000000   223.000000   298.000000   136.000000    56.000000   \n",
       "75%     125.000000   324.000000   439.000000   242.000000    80.000000   \n",
       "max     440.000000   894.000000  1247.000000   925.000000   225.000000   \n",
       "\n",
       "               BLK          PTS  \n",
       "count  4658.000000  4658.000000  \n",
       "mean     39.515887   837.150708  \n",
       "std      39.989813   447.531333  \n",
       "min       0.000000     0.000000  \n",
       "25%      13.000000   495.250000  \n",
       "50%      26.000000   751.000000  \n",
       "75%      51.000000  1094.000000  \n",
       "max     307.000000  2832.000000  "
      ]
     },
     "execution_count": 8,
     "metadata": {},
     "output_type": "execute_result"
    }
   ],
   "source": [
    "# dropping these columns since they are irrelevant for our analysis\n",
    "df = df.drop(['Team', 'League', 'Stage', 'birth_year', 'birth_month', 'birth_date','height', 'height_cm', 'weight', 'weight_kg'],  axis = 1)\n",
    "\n",
    "# assigning a new column 'Missed_FG' by calculating the difference of 'FGA' (Field Goals Attempted) and 'FGM' (Field Goals Made)\n",
    "#df = df.assign(Missed_FG = df['FGA'] - df['FGM'])\n",
    "\n",
    "# assigning a new column 'Missed_FT' by calculating the difference of 'FTA' (Free Throws Attempted) and 'FTM' (Free Throws Made)\n",
    "#df = df.assign(Missed_FT = df['FTA'] - df['FTM'])\n",
    "\n",
    "# assigning a new column 'EFF' to calculate the EFF (Efficiency) for each players\n",
    "#df = df.assign(EFF = (df['PTS'] + df['REB'] + df['AST'] + df['STL'] + df['BLK'] - df['Missed_FG'] - df['Missed_FT'] - df['TOV'])/ df['GP'] )\n",
    "\n",
    "# describe the statistics of numerical features\n",
    "df.describe()"
   ]
  },
  {
   "cell_type": "markdown",
   "metadata": {
    "id": "1vSFkpGSyVj_"
   },
   "source": [
    "Now what we need to do is separate players into two different DataFrames based on their nationality. This will help with a lot of the stat. comparisons that we will be doing later on."
   ]
  },
  {
   "cell_type": "code",
   "execution_count": 9,
   "metadata": {
    "id": "khX3X2L1NnXD"
   },
   "outputs": [],
   "source": [
    "df_US = df[df['nationality'] == 'United States']\n",
    "df_INT = df[df['nationality'] != 'United States']"
   ]
  },
  {
   "cell_type": "markdown",
   "metadata": {
    "id": "2oHcKrxayjfE"
   },
   "source": [
    "Now let's view our two new DataFrames to make sure they look like what we expect."
   ]
  },
  {
   "cell_type": "code",
   "execution_count": 10,
   "metadata": {
    "colab": {
     "base_uri": "https://localhost:8080/",
     "height": 206
    },
    "id": "FWdrgicEPbDf",
    "outputId": "8a8e6742-042c-4b98-e409-761bdb5b8df9"
   },
   "outputs": [
    {
     "data": {
      "text/html": [
       "<div>\n",
       "<style scoped>\n",
       "    .dataframe tbody tr th:only-of-type {\n",
       "        vertical-align: middle;\n",
       "    }\n",
       "\n",
       "    .dataframe tbody tr th {\n",
       "        vertical-align: top;\n",
       "    }\n",
       "\n",
       "    .dataframe thead th {\n",
       "        text-align: right;\n",
       "    }\n",
       "</style>\n",
       "<table border=\"1\" class=\"dataframe\">\n",
       "  <thead>\n",
       "    <tr style=\"text-align: right;\">\n",
       "      <th></th>\n",
       "      <th>Season</th>\n",
       "      <th>Player</th>\n",
       "      <th>GP</th>\n",
       "      <th>MIN</th>\n",
       "      <th>FGM</th>\n",
       "      <th>FGA</th>\n",
       "      <th>3PM</th>\n",
       "      <th>3PA</th>\n",
       "      <th>FTM</th>\n",
       "      <th>FTA</th>\n",
       "      <th>TOV</th>\n",
       "      <th>PF</th>\n",
       "      <th>ORB</th>\n",
       "      <th>DRB</th>\n",
       "      <th>REB</th>\n",
       "      <th>AST</th>\n",
       "      <th>STL</th>\n",
       "      <th>BLK</th>\n",
       "      <th>PTS</th>\n",
       "      <th>nationality</th>\n",
       "    </tr>\n",
       "  </thead>\n",
       "  <tbody>\n",
       "    <tr>\n",
       "      <th>0</th>\n",
       "      <td>1999 - 2000</td>\n",
       "      <td>Shaquille O'Neal</td>\n",
       "      <td>79</td>\n",
       "      <td>3163.0</td>\n",
       "      <td>956</td>\n",
       "      <td>1665</td>\n",
       "      <td>0</td>\n",
       "      <td>1</td>\n",
       "      <td>432</td>\n",
       "      <td>824</td>\n",
       "      <td>223</td>\n",
       "      <td>255</td>\n",
       "      <td>336</td>\n",
       "      <td>742</td>\n",
       "      <td>1078</td>\n",
       "      <td>299</td>\n",
       "      <td>36</td>\n",
       "      <td>239</td>\n",
       "      <td>2344</td>\n",
       "      <td>United States</td>\n",
       "    </tr>\n",
       "    <tr>\n",
       "      <th>1</th>\n",
       "      <td>1999 - 2000</td>\n",
       "      <td>Vince Carter</td>\n",
       "      <td>82</td>\n",
       "      <td>3126.0</td>\n",
       "      <td>788</td>\n",
       "      <td>1696</td>\n",
       "      <td>95</td>\n",
       "      <td>236</td>\n",
       "      <td>436</td>\n",
       "      <td>551</td>\n",
       "      <td>178</td>\n",
       "      <td>263</td>\n",
       "      <td>150</td>\n",
       "      <td>326</td>\n",
       "      <td>476</td>\n",
       "      <td>322</td>\n",
       "      <td>110</td>\n",
       "      <td>92</td>\n",
       "      <td>2107</td>\n",
       "      <td>United States</td>\n",
       "    </tr>\n",
       "    <tr>\n",
       "      <th>2</th>\n",
       "      <td>1999 - 2000</td>\n",
       "      <td>Karl Malone</td>\n",
       "      <td>82</td>\n",
       "      <td>2947.0</td>\n",
       "      <td>752</td>\n",
       "      <td>1476</td>\n",
       "      <td>2</td>\n",
       "      <td>8</td>\n",
       "      <td>589</td>\n",
       "      <td>739</td>\n",
       "      <td>231</td>\n",
       "      <td>229</td>\n",
       "      <td>169</td>\n",
       "      <td>610</td>\n",
       "      <td>779</td>\n",
       "      <td>304</td>\n",
       "      <td>79</td>\n",
       "      <td>71</td>\n",
       "      <td>2095</td>\n",
       "      <td>United States</td>\n",
       "    </tr>\n",
       "    <tr>\n",
       "      <th>3</th>\n",
       "      <td>1999 - 2000</td>\n",
       "      <td>Allen Iverson</td>\n",
       "      <td>70</td>\n",
       "      <td>2853.0</td>\n",
       "      <td>729</td>\n",
       "      <td>1733</td>\n",
       "      <td>89</td>\n",
       "      <td>261</td>\n",
       "      <td>442</td>\n",
       "      <td>620</td>\n",
       "      <td>230</td>\n",
       "      <td>162</td>\n",
       "      <td>71</td>\n",
       "      <td>196</td>\n",
       "      <td>267</td>\n",
       "      <td>328</td>\n",
       "      <td>144</td>\n",
       "      <td>5</td>\n",
       "      <td>1989</td>\n",
       "      <td>United States</td>\n",
       "    </tr>\n",
       "    <tr>\n",
       "      <th>4</th>\n",
       "      <td>1999 - 2000</td>\n",
       "      <td>Gary Payton</td>\n",
       "      <td>82</td>\n",
       "      <td>3425.0</td>\n",
       "      <td>747</td>\n",
       "      <td>1666</td>\n",
       "      <td>177</td>\n",
       "      <td>520</td>\n",
       "      <td>311</td>\n",
       "      <td>423</td>\n",
       "      <td>224</td>\n",
       "      <td>178</td>\n",
       "      <td>100</td>\n",
       "      <td>429</td>\n",
       "      <td>529</td>\n",
       "      <td>732</td>\n",
       "      <td>153</td>\n",
       "      <td>18</td>\n",
       "      <td>1982</td>\n",
       "      <td>United States</td>\n",
       "    </tr>\n",
       "  </tbody>\n",
       "</table>\n",
       "</div>"
      ],
      "text/plain": [
       "        Season            Player  GP     MIN  FGM   FGA  3PM  3PA  FTM  FTA  \\\n",
       "0  1999 - 2000  Shaquille O'Neal  79  3163.0  956  1665    0    1  432  824   \n",
       "1  1999 - 2000      Vince Carter  82  3126.0  788  1696   95  236  436  551   \n",
       "2  1999 - 2000       Karl Malone  82  2947.0  752  1476    2    8  589  739   \n",
       "3  1999 - 2000     Allen Iverson  70  2853.0  729  1733   89  261  442  620   \n",
       "4  1999 - 2000       Gary Payton  82  3425.0  747  1666  177  520  311  423   \n",
       "\n",
       "   TOV   PF  ORB  DRB   REB  AST  STL  BLK   PTS    nationality  \n",
       "0  223  255  336  742  1078  299   36  239  2344  United States  \n",
       "1  178  263  150  326   476  322  110   92  2107  United States  \n",
       "2  231  229  169  610   779  304   79   71  2095  United States  \n",
       "3  230  162   71  196   267  328  144    5  1989  United States  \n",
       "4  224  178  100  429   529  732  153   18  1982  United States  "
      ]
     },
     "execution_count": 10,
     "metadata": {},
     "output_type": "execute_result"
    }
   ],
   "source": [
    "df_US.head()"
   ]
  },
  {
   "cell_type": "code",
   "execution_count": 11,
   "metadata": {
    "colab": {
     "base_uri": "https://localhost:8080/",
     "height": 206
    },
    "id": "ZJKyZVUoPguX",
    "outputId": "e0f37fc9-ce4f-471d-8f8b-0b38eee32fd8"
   },
   "outputs": [
    {
     "data": {
      "text/html": [
       "<div>\n",
       "<style scoped>\n",
       "    .dataframe tbody tr th:only-of-type {\n",
       "        vertical-align: middle;\n",
       "    }\n",
       "\n",
       "    .dataframe tbody tr th {\n",
       "        vertical-align: top;\n",
       "    }\n",
       "\n",
       "    .dataframe thead th {\n",
       "        text-align: right;\n",
       "    }\n",
       "</style>\n",
       "<table border=\"1\" class=\"dataframe\">\n",
       "  <thead>\n",
       "    <tr style=\"text-align: right;\">\n",
       "      <th></th>\n",
       "      <th>Season</th>\n",
       "      <th>Player</th>\n",
       "      <th>GP</th>\n",
       "      <th>MIN</th>\n",
       "      <th>FGM</th>\n",
       "      <th>FGA</th>\n",
       "      <th>3PM</th>\n",
       "      <th>3PA</th>\n",
       "      <th>FTM</th>\n",
       "      <th>FTA</th>\n",
       "      <th>TOV</th>\n",
       "      <th>PF</th>\n",
       "      <th>ORB</th>\n",
       "      <th>DRB</th>\n",
       "      <th>REB</th>\n",
       "      <th>AST</th>\n",
       "      <th>STL</th>\n",
       "      <th>BLK</th>\n",
       "      <th>PTS</th>\n",
       "      <th>nationality</th>\n",
       "    </tr>\n",
       "  </thead>\n",
       "  <tbody>\n",
       "    <tr>\n",
       "      <th>30</th>\n",
       "      <td>1999 - 2000</td>\n",
       "      <td>Dirk Nowitzki</td>\n",
       "      <td>82</td>\n",
       "      <td>2938.0</td>\n",
       "      <td>515</td>\n",
       "      <td>1118</td>\n",
       "      <td>116</td>\n",
       "      <td>306</td>\n",
       "      <td>289</td>\n",
       "      <td>348</td>\n",
       "      <td>141</td>\n",
       "      <td>256</td>\n",
       "      <td>102</td>\n",
       "      <td>430</td>\n",
       "      <td>532</td>\n",
       "      <td>203</td>\n",
       "      <td>63</td>\n",
       "      <td>68</td>\n",
       "      <td>1435</td>\n",
       "      <td>Germany</td>\n",
       "    </tr>\n",
       "    <tr>\n",
       "      <th>60</th>\n",
       "      <td>1999 - 2000</td>\n",
       "      <td>Rik Smits</td>\n",
       "      <td>79</td>\n",
       "      <td>1852.0</td>\n",
       "      <td>431</td>\n",
       "      <td>890</td>\n",
       "      <td>0</td>\n",
       "      <td>1</td>\n",
       "      <td>156</td>\n",
       "      <td>211</td>\n",
       "      <td>108</td>\n",
       "      <td>249</td>\n",
       "      <td>94</td>\n",
       "      <td>307</td>\n",
       "      <td>401</td>\n",
       "      <td>85</td>\n",
       "      <td>20</td>\n",
       "      <td>100</td>\n",
       "      <td>1018</td>\n",
       "      <td>Netherlands</td>\n",
       "    </tr>\n",
       "    <tr>\n",
       "      <th>65</th>\n",
       "      <td>1999 - 2000</td>\n",
       "      <td>Vlade Divac</td>\n",
       "      <td>82</td>\n",
       "      <td>2374.0</td>\n",
       "      <td>384</td>\n",
       "      <td>764</td>\n",
       "      <td>7</td>\n",
       "      <td>26</td>\n",
       "      <td>230</td>\n",
       "      <td>333</td>\n",
       "      <td>190</td>\n",
       "      <td>251</td>\n",
       "      <td>174</td>\n",
       "      <td>482</td>\n",
       "      <td>656</td>\n",
       "      <td>244</td>\n",
       "      <td>103</td>\n",
       "      <td>103</td>\n",
       "      <td>1005</td>\n",
       "      <td>Serbia</td>\n",
       "    </tr>\n",
       "    <tr>\n",
       "      <th>78</th>\n",
       "      <td>1999 - 2000</td>\n",
       "      <td>Dikembe Mutombo</td>\n",
       "      <td>82</td>\n",
       "      <td>2984.0</td>\n",
       "      <td>322</td>\n",
       "      <td>573</td>\n",
       "      <td>0</td>\n",
       "      <td>0</td>\n",
       "      <td>298</td>\n",
       "      <td>421</td>\n",
       "      <td>174</td>\n",
       "      <td>248</td>\n",
       "      <td>304</td>\n",
       "      <td>853</td>\n",
       "      <td>1157</td>\n",
       "      <td>105</td>\n",
       "      <td>27</td>\n",
       "      <td>269</td>\n",
       "      <td>942</td>\n",
       "      <td>Democratic Republic of the Congo</td>\n",
       "    </tr>\n",
       "    <tr>\n",
       "      <th>80</th>\n",
       "      <td>1999 - 2000</td>\n",
       "      <td>Patrick Ewing</td>\n",
       "      <td>62</td>\n",
       "      <td>2035.0</td>\n",
       "      <td>361</td>\n",
       "      <td>775</td>\n",
       "      <td>0</td>\n",
       "      <td>2</td>\n",
       "      <td>207</td>\n",
       "      <td>283</td>\n",
       "      <td>142</td>\n",
       "      <td>196</td>\n",
       "      <td>140</td>\n",
       "      <td>464</td>\n",
       "      <td>604</td>\n",
       "      <td>58</td>\n",
       "      <td>36</td>\n",
       "      <td>84</td>\n",
       "      <td>929</td>\n",
       "      <td>United States / Jamaica</td>\n",
       "    </tr>\n",
       "  </tbody>\n",
       "</table>\n",
       "</div>"
      ],
      "text/plain": [
       "         Season           Player  GP     MIN  FGM   FGA  3PM  3PA  FTM  FTA  \\\n",
       "30  1999 - 2000    Dirk Nowitzki  82  2938.0  515  1118  116  306  289  348   \n",
       "60  1999 - 2000        Rik Smits  79  1852.0  431   890    0    1  156  211   \n",
       "65  1999 - 2000      Vlade Divac  82  2374.0  384   764    7   26  230  333   \n",
       "78  1999 - 2000  Dikembe Mutombo  82  2984.0  322   573    0    0  298  421   \n",
       "80  1999 - 2000    Patrick Ewing  62  2035.0  361   775    0    2  207  283   \n",
       "\n",
       "    TOV   PF  ORB  DRB   REB  AST  STL  BLK   PTS  \\\n",
       "30  141  256  102  430   532  203   63   68  1435   \n",
       "60  108  249   94  307   401   85   20  100  1018   \n",
       "65  190  251  174  482   656  244  103  103  1005   \n",
       "78  174  248  304  853  1157  105   27  269   942   \n",
       "80  142  196  140  464   604   58   36   84   929   \n",
       "\n",
       "                         nationality  \n",
       "30                           Germany  \n",
       "60                       Netherlands  \n",
       "65                            Serbia  \n",
       "78  Democratic Republic of the Congo  \n",
       "80           United States / Jamaica  "
      ]
     },
     "execution_count": 11,
     "metadata": {},
     "output_type": "execute_result"
    }
   ],
   "source": [
    "df_INT.head()"
   ]
  },
  {
   "cell_type": "markdown",
   "metadata": {
    "id": "9G5NgqUTbKCB"
   },
   "source": [
    "From the summary above, we can see there is an instance where one player has their nationality listed as United States / Jamaica. This is problematic since we group players as international or national. There are more than likely other instances of players like this, so we need to determine a way to classify these them properly. \n",
    "\n",
    "To start, let's first see how many players there are that share the United States and another country as their nationality."
   ]
  },
  {
   "cell_type": "code",
   "execution_count": 12,
   "metadata": {
    "colab": {
     "base_uri": "https://localhost:8080/"
    },
    "id": "dNb5RUJlcevn",
    "outputId": "23abcaae-f586-4f10-ed8b-dd97371172ef"
   },
   "outputs": [
    {
     "data": {
      "text/plain": [
       "(173, 20)"
      ]
     },
     "execution_count": 12,
     "metadata": {},
     "output_type": "execute_result"
    }
   ],
   "source": [
    "# gets players who have multiple nationalities\n",
    "df[df['nationality'].str.contains('United States /') | df['nationality'].str.contains('/ United States')].shape"
   ]
  },
  {
   "cell_type": "markdown",
   "metadata": {
    "id": "6MWn6xzIbqBG"
   },
   "source": [
    "Here we see that there are 173 instances that we need to properly classify. Now we want to single out each player, but since some players appear multiple times we're going to use the ```unique()``` indentifier."
   ]
  },
  {
   "cell_type": "code",
   "execution_count": 13,
   "metadata": {
    "colab": {
     "base_uri": "https://localhost:8080/"
    },
    "id": "QgZwMeWzcrYW",
    "outputId": "c1f53ad3-c0f8-4990-f284-945f0b79770f"
   },
   "outputs": [
    {
     "data": {
      "text/plain": [
       "array(['Patrick Ewing', 'Wally Szczerbiak', 'Shawn Bradley',\n",
       "       'Detlef Schrempf', 'Adonal Foyle', 'Carlos Boozer', 'Milt Palacio',\n",
       "       'Carlos Arroyo', 'Jarvis Hayes', 'Chris Kaman', 'Dan Gadzuric',\n",
       "       'Ben Gordon', 'Charlie Villanueva', 'Ime Udoka', 'Al Horford',\n",
       "       'Andray Blatche', 'Joakim Noah', 'J.J. Barea', 'Donte Greene',\n",
       "       'Sam Young', 'Al-Farouq Aminu', 'Ekpe Udoh', 'Kosta Koufos',\n",
       "       'Maurice Harkless', 'Reggie Jackson', 'Kyrie Irving',\n",
       "       'Nick Calathes', 'Shane Larkin', 'Karl-Anthony Towns',\n",
       "       'Trey Lyles', 'Domantas Sabonis', 'Justin Hamilton',\n",
       "       'Shabazz Napier', 'Emmanuel Mudiay', 'Ogugua Anunoby',\n",
       "       'Abdel Nader', 'Josh Okogie', 'T.J. Leaf', 'John Holland'],\n",
       "      dtype=object)"
      ]
     },
     "execution_count": 13,
     "metadata": {},
     "output_type": "execute_result"
    }
   ],
   "source": [
    "# lists out nationalities\n",
    "df[df['nationality'].str.contains('United States /') | df['nationality'].str.contains('/ United States')]['Player'].unique()"
   ]
  },
  {
   "cell_type": "code",
   "execution_count": 14,
   "metadata": {
    "colab": {
     "base_uri": "https://localhost:8080/"
    },
    "id": "cTxfGEHMkQtQ",
    "outputId": "27b394c7-3cda-4a06-e00a-a7d822d8bedb"
   },
   "outputs": [
    {
     "data": {
      "text/plain": [
       "39"
      ]
     },
     "execution_count": 14,
     "metadata": {},
     "output_type": "execute_result"
    }
   ],
   "source": [
    "# count how many players there are\n",
    "len(df[df['nationality'].str.contains('United States /') | df['nationality'].str.contains('/ United States')]['Player'].unique())"
   ]
  },
  {
   "cell_type": "markdown",
   "metadata": {
    "id": "XrV_WK7vaw8E"
   },
   "source": [
    "From the check we just did we can see that there are 39 players that have another nationality besides 'United States'. Since there are only 26, it is best to manually sort through these players to determine if they are international or US. An example is that players like Kyrie Irving and Patrick Ewing are clearly US players, but players like Domantas Sabonis and Ime Udoka are clearly international players. The best way to sort through these players is to Google each one and see what country they played in before they were drafted and which national team they played for IF they were in the olympics. \n",
    "\n",
    "Following this, we created the ```place_nationality``` function seen below to take in a string and place a player into a single nationality based on our research. "
   ]
  },
  {
   "cell_type": "code",
   "execution_count": 15,
   "metadata": {
    "id": "Rcu0P3_McxQI"
   },
   "outputs": [],
   "source": [
    "# places players in single nationality based off represented region\n",
    "def place_nationality(string):\n",
    "  # Sorts players into singular nationality if listed as US / (other)\n",
    "  # Players through background research on each player\n",
    "  string = string.replace('United States / Jamaica', 'United States')\n",
    "  string = string.replace('United States / Spain', 'United States')\n",
    "  string = string.replace('United States / Germany', 'United States')\n",
    "  string = string.replace('Germany / United States', 'Germany')\n",
    "  string = string.replace('Saint Vincent and the Grenadines / United States', 'Saint Vincent and the Grenadines')\n",
    "  string = string.replace('United States / Norway', 'United States')\n",
    "  string = string.replace('Puerto Rico / United States', 'Puerto Rico')\n",
    "  string = string.replace('United States / Qatar', 'United States')\n",
    "  string = string.replace('Netherlands / United States', 'Netherlands')\n",
    "  string = string.replace('England / United States', 'England')\n",
    "  string = string.replace('United States / Dominican Republic', 'United States')\n",
    "  string = string.replace('United States / Nigeria', 'United States')\n",
    "  string = string.replace('Dominican Republic / United States', 'Dominican Republic')\n",
    "  string = string.replace('United States / Philippines', 'United States')\n",
    "  string = string.replace('France / United States', 'France')\n",
    "  string = string.replace('United States / Lebanon', 'United States')\n",
    "  string = string.replace('United States / Greece', 'United States')\n",
    "  string = string.replace('United States / Puerto Rico', 'United States')\n",
    "  string = string.replace('Italy / United States', 'Italy')\n",
    "  string = string.replace('United States / Australia', 'United States')\n",
    "  string = string.replace('United States / Turkey', 'United States')\n",
    "  string = string.replace('Canada / United States', 'Canada')\n",
    "  string = string.replace('United States / Lithuania', 'United States')\n",
    "  string = string.replace('United States / Croatia', 'United States')\n",
    "  string = string.replace('United States / Democratic Republic of the Congo', 'United States')\n",
    "  string = string.replace('United States / Egypt', 'United States')\n",
    "  string = string.replace('Nigeria / United States', 'Nigeria')\n",
    "  string = string.replace('United States / Israel', 'United States')\n",
    "\n",
    "  return string"
   ]
  },
  {
   "cell_type": "markdown",
   "metadata": {
    "id": "stfhWliyb6wq"
   },
   "source": [
    "From our research, we realized that in most cases the first nationality listed was the player's primary nationality. So if 'United States' wasn't listed first they were more than likely not international. There were only a few cases where this wasn't true, so we had to manually sort through each player's nationality and then edit what their nationality. Next we apply the ```place_nationality``` function to the original DataFrame."
   ]
  },
  {
   "cell_type": "code",
   "execution_count": 16,
   "metadata": {
    "colab": {
     "base_uri": "https://localhost:8080/"
    },
    "id": "8APB_I_9c5Rv",
    "outputId": "c12641f6-f43e-42ef-f6e5-4f0808e424b8"
   },
   "outputs": [
    {
     "data": {
      "text/plain": [
       "array(['United States', 'Germany', 'Netherlands', 'Serbia',\n",
       "       'Democratic Republic of the Congo', 'Serbia / Greece',\n",
       "       'Nigeria / England', 'Lithuania', 'Ukraine', 'Canada / Bahamas',\n",
       "       'Slovenia', 'Australia', 'Haiti',\n",
       "       'Saint Vincent and the Grenadines', 'Canada / South Africa',\n",
       "       'Dominican Republic', 'Turkey', 'Canada', 'Finland', 'Spain',\n",
       "       'Russia', 'France', 'Mexico', 'China', 'Croatia', 'Brazil',\n",
       "       'Montenegro', 'Argentina', 'Georgia', 'Senegal', 'Puerto Rico',\n",
       "       'Czech Republic', 'Canada / Haiti', 'England',\n",
       "       'England / South Sudan', 'Netherlands / South Sudan', 'Latvia',\n",
       "       'Italy', 'Argentina / Italy', 'Switzerland', 'England / Nigeria',\n",
       "       'Cameroon', 'Poland', 'Israel', 'Sweden',\n",
       "       'Republic of the Congo / Spain', 'Venezuela', 'Panama',\n",
       "       'Switzerland / Turkey', 'Switzerland / Montenegro', 'Nigeria',\n",
       "       'Tanzania', 'Bosnia and Herzegovina', 'Greece / Nigeria',\n",
       "       'New Zealand', 'Montenegro / Spain',\n",
       "       'Bosnia and Herzegovina / Croatia', 'New Zealand / Australia',\n",
       "       'North Macedonia', 'Bahamas', 'South Sudan / Australia', 'Tunisia',\n",
       "       'Austria', 'Belgium / France', 'Mali', 'North Macedonia / Turkey',\n",
       "       'Saint Lucia / Canada', 'Angola'], dtype=object)"
      ]
     },
     "execution_count": 16,
     "metadata": {},
     "output_type": "execute_result"
    }
   ],
   "source": [
    "# apply function to nationality column\n",
    "df['nationality'] = df['nationality'].apply(place_nationality)\n",
    "\n",
    "# lists out nationalities\n",
    "df['nationality'].unique()"
   ]
  },
  {
   "cell_type": "code",
   "execution_count": 17,
   "metadata": {
    "id": "u9hud2Fuc143"
   },
   "outputs": [],
   "source": [
    "# Places international and US players in respectives dataframes\n",
    "df_US = df[df['nationality'] == 'United States']\n",
    "df_INT = df[df['nationality'] != 'United States']"
   ]
  },
  {
   "cell_type": "markdown",
   "metadata": {
    "id": "GvOAD74a0HEa"
   },
   "source": [
    "Now that all the players are in their correct DataFrames we are going to modify some of the columns so it is easier to interpret their data in our analysis. For starters we're going to convert all stats into season averages which consists of: \n",
    "\n",
    "$$\\frac{Stat}{Games Played(GP)}$$"
   ]
  },
  {
   "cell_type": "code",
   "execution_count": 18,
   "metadata": {
    "colab": {
     "base_uri": "https://localhost:8080/"
    },
    "id": "0TOLQux11e7Q",
    "outputId": "30e57c58-7be3-475c-96df-d5b88a9f78fc"
   },
   "outputs": [
    {
     "data": {
      "text/plain": [
       "Index(['Season', 'Player', 'GP', 'MIN', 'FGM', 'FGA', '3PM', '3PA', 'FTM',\n",
       "       'FTA', 'TOV', 'PF', 'ORB', 'DRB', 'REB', 'AST', 'STL', 'BLK', 'PTS',\n",
       "       'nationality'],\n",
       "      dtype='object')"
      ]
     },
     "execution_count": 18,
     "metadata": {},
     "output_type": "execute_result"
    }
   ],
   "source": [
    "df_US.columns"
   ]
  },
  {
   "cell_type": "code",
   "execution_count": 19,
   "metadata": {
    "id": "T8wEaGH6yoxM"
   },
   "outputs": [],
   "source": [
    "# Convert each players total season stats into season averages\n",
    "df_US.iloc[:,3:19] = df.iloc[:,3:19].div(df_US['GP'], axis=0)\n",
    "df_INT.iloc[:,3:19] = df.iloc[:,3:19].div(df_INT['GP'], axis=0)"
   ]
  },
  {
   "cell_type": "markdown",
   "metadata": {
    "id": "N8M6BOhu3sj1"
   },
   "source": [
    "Now that we've converted all stats. to season averages for each player and each season, we're going to create 3 new columns for each shooting percentage(FG%, FT%, and 3PGM%). The calculation for this is seen as:\n",
    "\n",
    "$$\\frac{Shots Made}{Shots Attempted}$$"
   ]
  },
  {
   "cell_type": "code",
   "execution_count": 20,
   "metadata": {
    "id": "bHwOyRf74_8j"
   },
   "outputs": [],
   "source": [
    "# Create new columns for field-goal percentage for each shot\n",
    "df_US['FG%'] = df_US['FGM'] / df_US['FGA']\n",
    "df_INT['FG%'] = df_INT['FGM'] / df_INT['FGA']\n",
    "\n",
    "df_US['FT%'] = df_US['FTM'] / df_US['FTA']\n",
    "df_INT['FT%'] = df_INT['FTM'] / df_INT['FTA']\n",
    "\n",
    "df_US['3PFG%'] = df_US['3PM'] / df_US['3PA']\n",
    "df_INT['3PFG%'] = df_INT['3PM'] / df_INT['3PA']\n",
    "\n",
    "# In case shots attemped was 0, set percentage to 0%\n",
    "df_US['FG%'] = df_US['FG%'].fillna(0)\n",
    "df_INT['FG%'] = df_INT['FG%'].fillna(0)\n",
    "\n",
    "df_US['FT%'] = df_US['FT%'].fillna(0)\n",
    "df_INT['FT%'] = df_INT['FT%'].fillna(0)\n",
    "\n",
    "df_US['3PFG%'] = df_US['3PFG%'].fillna(0)\n",
    "df_INT['3PFG%'] = df_INT['3PFG%'].fillna(0)"
   ]
  },
  {
   "cell_type": "markdown",
   "metadata": {
    "id": "dp567XPn7hx7"
   },
   "source": [
    "We finally have all of our data properly cleaned up and ready for EDA, so let's view it one last time."
   ]
  },
  {
   "cell_type": "code",
   "execution_count": 21,
   "metadata": {
    "colab": {
     "base_uri": "https://localhost:8080/",
     "height": 313
    },
    "id": "5fq1HI297q4A",
    "outputId": "cdea6ed7-1b8a-4870-941a-18a28e7369c9",
    "scrolled": true
   },
   "outputs": [
    {
     "data": {
      "text/html": [
       "<div>\n",
       "<style scoped>\n",
       "    .dataframe tbody tr th:only-of-type {\n",
       "        vertical-align: middle;\n",
       "    }\n",
       "\n",
       "    .dataframe tbody tr th {\n",
       "        vertical-align: top;\n",
       "    }\n",
       "\n",
       "    .dataframe thead th {\n",
       "        text-align: right;\n",
       "    }\n",
       "</style>\n",
       "<table border=\"1\" class=\"dataframe\">\n",
       "  <thead>\n",
       "    <tr style=\"text-align: right;\">\n",
       "      <th></th>\n",
       "      <th>Season</th>\n",
       "      <th>Player</th>\n",
       "      <th>GP</th>\n",
       "      <th>MIN</th>\n",
       "      <th>FGM</th>\n",
       "      <th>FGA</th>\n",
       "      <th>3PM</th>\n",
       "      <th>3PA</th>\n",
       "      <th>FTM</th>\n",
       "      <th>FTA</th>\n",
       "      <th>...</th>\n",
       "      <th>DRB</th>\n",
       "      <th>REB</th>\n",
       "      <th>AST</th>\n",
       "      <th>STL</th>\n",
       "      <th>BLK</th>\n",
       "      <th>PTS</th>\n",
       "      <th>nationality</th>\n",
       "      <th>FG%</th>\n",
       "      <th>FT%</th>\n",
       "      <th>3PFG%</th>\n",
       "    </tr>\n",
       "  </thead>\n",
       "  <tbody>\n",
       "    <tr>\n",
       "      <th>0</th>\n",
       "      <td>1999 - 2000</td>\n",
       "      <td>Shaquille O'Neal</td>\n",
       "      <td>79</td>\n",
       "      <td>40.037975</td>\n",
       "      <td>12.101266</td>\n",
       "      <td>21.075949</td>\n",
       "      <td>0.000000</td>\n",
       "      <td>0.012658</td>\n",
       "      <td>5.468354</td>\n",
       "      <td>10.430380</td>\n",
       "      <td>...</td>\n",
       "      <td>9.392405</td>\n",
       "      <td>13.645570</td>\n",
       "      <td>3.784810</td>\n",
       "      <td>0.455696</td>\n",
       "      <td>3.025316</td>\n",
       "      <td>29.670886</td>\n",
       "      <td>United States</td>\n",
       "      <td>0.574174</td>\n",
       "      <td>0.524272</td>\n",
       "      <td>0.000000</td>\n",
       "    </tr>\n",
       "    <tr>\n",
       "      <th>1</th>\n",
       "      <td>1999 - 2000</td>\n",
       "      <td>Vince Carter</td>\n",
       "      <td>82</td>\n",
       "      <td>38.121951</td>\n",
       "      <td>9.609756</td>\n",
       "      <td>20.682927</td>\n",
       "      <td>1.158537</td>\n",
       "      <td>2.878049</td>\n",
       "      <td>5.317073</td>\n",
       "      <td>6.719512</td>\n",
       "      <td>...</td>\n",
       "      <td>3.975610</td>\n",
       "      <td>5.804878</td>\n",
       "      <td>3.926829</td>\n",
       "      <td>1.341463</td>\n",
       "      <td>1.121951</td>\n",
       "      <td>25.695122</td>\n",
       "      <td>United States</td>\n",
       "      <td>0.464623</td>\n",
       "      <td>0.791289</td>\n",
       "      <td>0.402542</td>\n",
       "    </tr>\n",
       "    <tr>\n",
       "      <th>2</th>\n",
       "      <td>1999 - 2000</td>\n",
       "      <td>Karl Malone</td>\n",
       "      <td>82</td>\n",
       "      <td>35.939024</td>\n",
       "      <td>9.170732</td>\n",
       "      <td>18.000000</td>\n",
       "      <td>0.024390</td>\n",
       "      <td>0.097561</td>\n",
       "      <td>7.182927</td>\n",
       "      <td>9.012195</td>\n",
       "      <td>...</td>\n",
       "      <td>7.439024</td>\n",
       "      <td>9.500000</td>\n",
       "      <td>3.707317</td>\n",
       "      <td>0.963415</td>\n",
       "      <td>0.865854</td>\n",
       "      <td>25.548780</td>\n",
       "      <td>United States</td>\n",
       "      <td>0.509485</td>\n",
       "      <td>0.797023</td>\n",
       "      <td>0.250000</td>\n",
       "    </tr>\n",
       "    <tr>\n",
       "      <th>3</th>\n",
       "      <td>1999 - 2000</td>\n",
       "      <td>Allen Iverson</td>\n",
       "      <td>70</td>\n",
       "      <td>40.757143</td>\n",
       "      <td>10.414286</td>\n",
       "      <td>24.757143</td>\n",
       "      <td>1.271429</td>\n",
       "      <td>3.728571</td>\n",
       "      <td>6.314286</td>\n",
       "      <td>8.857143</td>\n",
       "      <td>...</td>\n",
       "      <td>2.800000</td>\n",
       "      <td>3.814286</td>\n",
       "      <td>4.685714</td>\n",
       "      <td>2.057143</td>\n",
       "      <td>0.071429</td>\n",
       "      <td>28.414286</td>\n",
       "      <td>United States</td>\n",
       "      <td>0.420658</td>\n",
       "      <td>0.712903</td>\n",
       "      <td>0.340996</td>\n",
       "    </tr>\n",
       "    <tr>\n",
       "      <th>4</th>\n",
       "      <td>1999 - 2000</td>\n",
       "      <td>Gary Payton</td>\n",
       "      <td>82</td>\n",
       "      <td>41.768293</td>\n",
       "      <td>9.109756</td>\n",
       "      <td>20.317073</td>\n",
       "      <td>2.158537</td>\n",
       "      <td>6.341463</td>\n",
       "      <td>3.792683</td>\n",
       "      <td>5.158537</td>\n",
       "      <td>...</td>\n",
       "      <td>5.231707</td>\n",
       "      <td>6.451220</td>\n",
       "      <td>8.926829</td>\n",
       "      <td>1.865854</td>\n",
       "      <td>0.219512</td>\n",
       "      <td>24.170732</td>\n",
       "      <td>United States</td>\n",
       "      <td>0.448379</td>\n",
       "      <td>0.735225</td>\n",
       "      <td>0.340385</td>\n",
       "    </tr>\n",
       "  </tbody>\n",
       "</table>\n",
       "<p>5 rows × 23 columns</p>\n",
       "</div>"
      ],
      "text/plain": [
       "        Season            Player  GP        MIN        FGM        FGA  \\\n",
       "0  1999 - 2000  Shaquille O'Neal  79  40.037975  12.101266  21.075949   \n",
       "1  1999 - 2000      Vince Carter  82  38.121951   9.609756  20.682927   \n",
       "2  1999 - 2000       Karl Malone  82  35.939024   9.170732  18.000000   \n",
       "3  1999 - 2000     Allen Iverson  70  40.757143  10.414286  24.757143   \n",
       "4  1999 - 2000       Gary Payton  82  41.768293   9.109756  20.317073   \n",
       "\n",
       "        3PM       3PA       FTM        FTA  ...       DRB        REB  \\\n",
       "0  0.000000  0.012658  5.468354  10.430380  ...  9.392405  13.645570   \n",
       "1  1.158537  2.878049  5.317073   6.719512  ...  3.975610   5.804878   \n",
       "2  0.024390  0.097561  7.182927   9.012195  ...  7.439024   9.500000   \n",
       "3  1.271429  3.728571  6.314286   8.857143  ...  2.800000   3.814286   \n",
       "4  2.158537  6.341463  3.792683   5.158537  ...  5.231707   6.451220   \n",
       "\n",
       "        AST       STL       BLK        PTS    nationality       FG%       FT%  \\\n",
       "0  3.784810  0.455696  3.025316  29.670886  United States  0.574174  0.524272   \n",
       "1  3.926829  1.341463  1.121951  25.695122  United States  0.464623  0.791289   \n",
       "2  3.707317  0.963415  0.865854  25.548780  United States  0.509485  0.797023   \n",
       "3  4.685714  2.057143  0.071429  28.414286  United States  0.420658  0.712903   \n",
       "4  8.926829  1.865854  0.219512  24.170732  United States  0.448379  0.735225   \n",
       "\n",
       "      3PFG%  \n",
       "0  0.000000  \n",
       "1  0.402542  \n",
       "2  0.250000  \n",
       "3  0.340996  \n",
       "4  0.340385  \n",
       "\n",
       "[5 rows x 23 columns]"
      ]
     },
     "execution_count": 21,
     "metadata": {},
     "output_type": "execute_result"
    }
   ],
   "source": [
    "df_US.head()"
   ]
  },
  {
   "cell_type": "code",
   "execution_count": 22,
   "metadata": {
    "colab": {
     "base_uri": "https://localhost:8080/",
     "height": 330
    },
    "id": "Kw5p73JF7rX4",
    "outputId": "b03689bc-446a-45a6-fa7d-fda0f3be1ee7"
   },
   "outputs": [
    {
     "data": {
      "text/html": [
       "<div>\n",
       "<style scoped>\n",
       "    .dataframe tbody tr th:only-of-type {\n",
       "        vertical-align: middle;\n",
       "    }\n",
       "\n",
       "    .dataframe tbody tr th {\n",
       "        vertical-align: top;\n",
       "    }\n",
       "\n",
       "    .dataframe thead th {\n",
       "        text-align: right;\n",
       "    }\n",
       "</style>\n",
       "<table border=\"1\" class=\"dataframe\">\n",
       "  <thead>\n",
       "    <tr style=\"text-align: right;\">\n",
       "      <th></th>\n",
       "      <th>Season</th>\n",
       "      <th>Player</th>\n",
       "      <th>GP</th>\n",
       "      <th>MIN</th>\n",
       "      <th>FGM</th>\n",
       "      <th>FGA</th>\n",
       "      <th>3PM</th>\n",
       "      <th>3PA</th>\n",
       "      <th>FTM</th>\n",
       "      <th>FTA</th>\n",
       "      <th>...</th>\n",
       "      <th>DRB</th>\n",
       "      <th>REB</th>\n",
       "      <th>AST</th>\n",
       "      <th>STL</th>\n",
       "      <th>BLK</th>\n",
       "      <th>PTS</th>\n",
       "      <th>nationality</th>\n",
       "      <th>FG%</th>\n",
       "      <th>FT%</th>\n",
       "      <th>3PFG%</th>\n",
       "    </tr>\n",
       "  </thead>\n",
       "  <tbody>\n",
       "    <tr>\n",
       "      <th>30</th>\n",
       "      <td>1999 - 2000</td>\n",
       "      <td>Dirk Nowitzki</td>\n",
       "      <td>82</td>\n",
       "      <td>35.829268</td>\n",
       "      <td>6.280488</td>\n",
       "      <td>13.634146</td>\n",
       "      <td>1.414634</td>\n",
       "      <td>3.731707</td>\n",
       "      <td>3.524390</td>\n",
       "      <td>4.243902</td>\n",
       "      <td>...</td>\n",
       "      <td>5.243902</td>\n",
       "      <td>6.487805</td>\n",
       "      <td>2.475610</td>\n",
       "      <td>0.768293</td>\n",
       "      <td>0.829268</td>\n",
       "      <td>17.500000</td>\n",
       "      <td>Germany</td>\n",
       "      <td>0.460644</td>\n",
       "      <td>0.830460</td>\n",
       "      <td>0.379085</td>\n",
       "    </tr>\n",
       "    <tr>\n",
       "      <th>60</th>\n",
       "      <td>1999 - 2000</td>\n",
       "      <td>Rik Smits</td>\n",
       "      <td>79</td>\n",
       "      <td>23.443038</td>\n",
       "      <td>5.455696</td>\n",
       "      <td>11.265823</td>\n",
       "      <td>0.000000</td>\n",
       "      <td>0.012658</td>\n",
       "      <td>1.974684</td>\n",
       "      <td>2.670886</td>\n",
       "      <td>...</td>\n",
       "      <td>3.886076</td>\n",
       "      <td>5.075949</td>\n",
       "      <td>1.075949</td>\n",
       "      <td>0.253165</td>\n",
       "      <td>1.265823</td>\n",
       "      <td>12.886076</td>\n",
       "      <td>Netherlands</td>\n",
       "      <td>0.484270</td>\n",
       "      <td>0.739336</td>\n",
       "      <td>0.000000</td>\n",
       "    </tr>\n",
       "    <tr>\n",
       "      <th>65</th>\n",
       "      <td>1999 - 2000</td>\n",
       "      <td>Vlade Divac</td>\n",
       "      <td>82</td>\n",
       "      <td>28.951220</td>\n",
       "      <td>4.682927</td>\n",
       "      <td>9.317073</td>\n",
       "      <td>0.085366</td>\n",
       "      <td>0.317073</td>\n",
       "      <td>2.804878</td>\n",
       "      <td>4.060976</td>\n",
       "      <td>...</td>\n",
       "      <td>5.878049</td>\n",
       "      <td>8.000000</td>\n",
       "      <td>2.975610</td>\n",
       "      <td>1.256098</td>\n",
       "      <td>1.256098</td>\n",
       "      <td>12.256098</td>\n",
       "      <td>Serbia</td>\n",
       "      <td>0.502618</td>\n",
       "      <td>0.690691</td>\n",
       "      <td>0.269231</td>\n",
       "    </tr>\n",
       "    <tr>\n",
       "      <th>78</th>\n",
       "      <td>1999 - 2000</td>\n",
       "      <td>Dikembe Mutombo</td>\n",
       "      <td>82</td>\n",
       "      <td>36.390244</td>\n",
       "      <td>3.926829</td>\n",
       "      <td>6.987805</td>\n",
       "      <td>0.000000</td>\n",
       "      <td>0.000000</td>\n",
       "      <td>3.634146</td>\n",
       "      <td>5.134146</td>\n",
       "      <td>...</td>\n",
       "      <td>10.402439</td>\n",
       "      <td>14.109756</td>\n",
       "      <td>1.280488</td>\n",
       "      <td>0.329268</td>\n",
       "      <td>3.280488</td>\n",
       "      <td>11.487805</td>\n",
       "      <td>Democratic Republic of the Congo</td>\n",
       "      <td>0.561955</td>\n",
       "      <td>0.707838</td>\n",
       "      <td>0.000000</td>\n",
       "    </tr>\n",
       "    <tr>\n",
       "      <th>86</th>\n",
       "      <td>1999 - 2000</td>\n",
       "      <td>Peja Stojakovic</td>\n",
       "      <td>74</td>\n",
       "      <td>23.635135</td>\n",
       "      <td>4.337838</td>\n",
       "      <td>9.689189</td>\n",
       "      <td>1.351351</td>\n",
       "      <td>3.608108</td>\n",
       "      <td>1.824324</td>\n",
       "      <td>2.067568</td>\n",
       "      <td>...</td>\n",
       "      <td>2.729730</td>\n",
       "      <td>3.729730</td>\n",
       "      <td>1.432432</td>\n",
       "      <td>0.702703</td>\n",
       "      <td>0.094595</td>\n",
       "      <td>11.851351</td>\n",
       "      <td>Serbia / Greece</td>\n",
       "      <td>0.447699</td>\n",
       "      <td>0.882353</td>\n",
       "      <td>0.374532</td>\n",
       "    </tr>\n",
       "  </tbody>\n",
       "</table>\n",
       "<p>5 rows × 23 columns</p>\n",
       "</div>"
      ],
      "text/plain": [
       "         Season           Player  GP        MIN       FGM        FGA  \\\n",
       "30  1999 - 2000    Dirk Nowitzki  82  35.829268  6.280488  13.634146   \n",
       "60  1999 - 2000        Rik Smits  79  23.443038  5.455696  11.265823   \n",
       "65  1999 - 2000      Vlade Divac  82  28.951220  4.682927   9.317073   \n",
       "78  1999 - 2000  Dikembe Mutombo  82  36.390244  3.926829   6.987805   \n",
       "86  1999 - 2000  Peja Stojakovic  74  23.635135  4.337838   9.689189   \n",
       "\n",
       "         3PM       3PA       FTM       FTA  ...        DRB        REB  \\\n",
       "30  1.414634  3.731707  3.524390  4.243902  ...   5.243902   6.487805   \n",
       "60  0.000000  0.012658  1.974684  2.670886  ...   3.886076   5.075949   \n",
       "65  0.085366  0.317073  2.804878  4.060976  ...   5.878049   8.000000   \n",
       "78  0.000000  0.000000  3.634146  5.134146  ...  10.402439  14.109756   \n",
       "86  1.351351  3.608108  1.824324  2.067568  ...   2.729730   3.729730   \n",
       "\n",
       "         AST       STL       BLK        PTS                       nationality  \\\n",
       "30  2.475610  0.768293  0.829268  17.500000                           Germany   \n",
       "60  1.075949  0.253165  1.265823  12.886076                       Netherlands   \n",
       "65  2.975610  1.256098  1.256098  12.256098                            Serbia   \n",
       "78  1.280488  0.329268  3.280488  11.487805  Democratic Republic of the Congo   \n",
       "86  1.432432  0.702703  0.094595  11.851351                   Serbia / Greece   \n",
       "\n",
       "         FG%       FT%     3PFG%  \n",
       "30  0.460644  0.830460  0.379085  \n",
       "60  0.484270  0.739336  0.000000  \n",
       "65  0.502618  0.690691  0.269231  \n",
       "78  0.561955  0.707838  0.000000  \n",
       "86  0.447699  0.882353  0.374532  \n",
       "\n",
       "[5 rows x 23 columns]"
      ]
     },
     "execution_count": 22,
     "metadata": {},
     "output_type": "execute_result"
    }
   ],
   "source": [
    "df_INT.head()"
   ]
  },
  {
   "cell_type": "markdown",
   "metadata": {
    "id": "EmicX9yISPoH"
   },
   "source": [
    "### Column Glossary:\n",
    "\n",
    "***Categorical information:***\n",
    "\n",
    "- **Season:** The season corresponding to row(1999-2000 to 2019-2020)\n",
    "- **Player:** Name of player\n",
    "- **GP:** Games played that season\n",
    "\n",
    "***Stats. below are listed as averages per games played:***\n",
    "\n",
    "- **MIN:** Minutes played\n",
    "- **FGM:** Field goals made\n",
    "- **FGA:** Field goals attempted\n",
    "- **FTM:** Free throws made\n",
    "- **FTA:** Free throws attempted\n",
    "- **TOV:** Turnovers committed\n",
    "- **PF:** Personal fouls committed\n",
    "- **ORB:** Offensive rebounds\n",
    "- **DRB:** Defensive rebounds\n",
    "- **REB:** Total rebounds\n",
    "- **AST:** Assists\n",
    "- **STL:** Steals\n",
    "- **BLK:** Blocks\n",
    "- **PTS:** Points\n",
    "- **FG%:** Field goal percentage\n",
    "- **FT%:** Free throw percentage\n",
    "- **3PFG%:** 3-Point field goal percentage"
   ]
  },
  {
   "cell_type": "markdown",
   "metadata": {
    "id": "oFs-5MRSsTHY"
   },
   "source": [
    "# Data Analysis & Results (EDA)"
   ]
  },
  {
   "cell_type": "code",
   "execution_count": 23,
   "metadata": {
    "colab": {
     "base_uri": "https://localhost:8080/",
     "height": 320
    },
    "id": "btubQx6F41fs",
    "outputId": "a717a54e-5f54-4f9e-f3c1-8cfca8eb51dd"
   },
   "outputs": [
    {
     "data": {
      "text/html": [
       "<div>\n",
       "<style scoped>\n",
       "    .dataframe tbody tr th:only-of-type {\n",
       "        vertical-align: middle;\n",
       "    }\n",
       "\n",
       "    .dataframe tbody tr th {\n",
       "        vertical-align: top;\n",
       "    }\n",
       "\n",
       "    .dataframe thead th {\n",
       "        text-align: right;\n",
       "    }\n",
       "</style>\n",
       "<table border=\"1\" class=\"dataframe\">\n",
       "  <thead>\n",
       "    <tr style=\"text-align: right;\">\n",
       "      <th></th>\n",
       "      <th>GP</th>\n",
       "      <th>MIN</th>\n",
       "      <th>FGM</th>\n",
       "      <th>FGA</th>\n",
       "      <th>3PM</th>\n",
       "      <th>3PA</th>\n",
       "      <th>FTM</th>\n",
       "      <th>FTA</th>\n",
       "      <th>TOV</th>\n",
       "      <th>PF</th>\n",
       "      <th>ORB</th>\n",
       "      <th>DRB</th>\n",
       "      <th>REB</th>\n",
       "      <th>AST</th>\n",
       "      <th>STL</th>\n",
       "      <th>BLK</th>\n",
       "      <th>PTS</th>\n",
       "      <th>FG%</th>\n",
       "      <th>FT%</th>\n",
       "      <th>3PFG%</th>\n",
       "    </tr>\n",
       "  </thead>\n",
       "  <tbody>\n",
       "    <tr>\n",
       "      <th>count</th>\n",
       "      <td>3805.000000</td>\n",
       "      <td>3805.000000</td>\n",
       "      <td>3805.000000</td>\n",
       "      <td>3805.000000</td>\n",
       "      <td>3805.000000</td>\n",
       "      <td>3805.000000</td>\n",
       "      <td>3805.000000</td>\n",
       "      <td>3805.000000</td>\n",
       "      <td>3805.000000</td>\n",
       "      <td>3805.000000</td>\n",
       "      <td>3805.000000</td>\n",
       "      <td>3805.000000</td>\n",
       "      <td>3805.000000</td>\n",
       "      <td>3805.000000</td>\n",
       "      <td>3805.000000</td>\n",
       "      <td>3805.000000</td>\n",
       "      <td>3805.000000</td>\n",
       "      <td>3805.000000</td>\n",
       "      <td>3805.000000</td>\n",
       "      <td>3805.000000</td>\n",
       "    </tr>\n",
       "    <tr>\n",
       "      <th>mean</th>\n",
       "      <td>73.231275</td>\n",
       "      <td>26.765433</td>\n",
       "      <td>4.275291</td>\n",
       "      <td>9.408648</td>\n",
       "      <td>0.856391</td>\n",
       "      <td>2.373824</td>\n",
       "      <td>2.120937</td>\n",
       "      <td>2.771331</td>\n",
       "      <td>1.532951</td>\n",
       "      <td>2.206905</td>\n",
       "      <td>1.162078</td>\n",
       "      <td>3.413317</td>\n",
       "      <td>4.575394</td>\n",
       "      <td>2.528817</td>\n",
       "      <td>0.871902</td>\n",
       "      <td>0.512588</td>\n",
       "      <td>11.527910</td>\n",
       "      <td>0.454064</td>\n",
       "      <td>0.754847</td>\n",
       "      <td>0.287543</td>\n",
       "    </tr>\n",
       "    <tr>\n",
       "      <th>std</th>\n",
       "      <td>8.728503</td>\n",
       "      <td>7.595336</td>\n",
       "      <td>2.130307</td>\n",
       "      <td>4.557657</td>\n",
       "      <td>0.784792</td>\n",
       "      <td>2.040710</td>\n",
       "      <td>1.581294</td>\n",
       "      <td>1.976040</td>\n",
       "      <td>0.798819</td>\n",
       "      <td>0.631901</td>\n",
       "      <td>0.860941</td>\n",
       "      <td>1.755627</td>\n",
       "      <td>2.463575</td>\n",
       "      <td>1.968520</td>\n",
       "      <td>0.433230</td>\n",
       "      <td>0.510248</td>\n",
       "      <td>5.964697</td>\n",
       "      <td>0.054435</td>\n",
       "      <td>0.098617</td>\n",
       "      <td>0.147018</td>\n",
       "    </tr>\n",
       "    <tr>\n",
       "      <th>min</th>\n",
       "      <td>1.000000</td>\n",
       "      <td>0.700000</td>\n",
       "      <td>0.000000</td>\n",
       "      <td>0.000000</td>\n",
       "      <td>0.000000</td>\n",
       "      <td>0.000000</td>\n",
       "      <td>0.000000</td>\n",
       "      <td>0.000000</td>\n",
       "      <td>0.000000</td>\n",
       "      <td>0.000000</td>\n",
       "      <td>0.000000</td>\n",
       "      <td>0.000000</td>\n",
       "      <td>0.000000</td>\n",
       "      <td>0.000000</td>\n",
       "      <td>0.000000</td>\n",
       "      <td>0.000000</td>\n",
       "      <td>0.000000</td>\n",
       "      <td>0.000000</td>\n",
       "      <td>0.000000</td>\n",
       "      <td>0.000000</td>\n",
       "    </tr>\n",
       "    <tr>\n",
       "      <th>25%</th>\n",
       "      <td>69.000000</td>\n",
       "      <td>20.887838</td>\n",
       "      <td>2.670732</td>\n",
       "      <td>5.926829</td>\n",
       "      <td>0.075000</td>\n",
       "      <td>0.328571</td>\n",
       "      <td>1.000000</td>\n",
       "      <td>1.351351</td>\n",
       "      <td>0.922078</td>\n",
       "      <td>1.760563</td>\n",
       "      <td>0.492063</td>\n",
       "      <td>2.172840</td>\n",
       "      <td>2.789474</td>\n",
       "      <td>1.106383</td>\n",
       "      <td>0.553846</td>\n",
       "      <td>0.182927</td>\n",
       "      <td>7.060976</td>\n",
       "      <td>0.419966</td>\n",
       "      <td>0.705882</td>\n",
       "      <td>0.250000</td>\n",
       "    </tr>\n",
       "    <tr>\n",
       "      <th>50%</th>\n",
       "      <td>75.000000</td>\n",
       "      <td>27.037037</td>\n",
       "      <td>3.859155</td>\n",
       "      <td>8.546667</td>\n",
       "      <td>0.756757</td>\n",
       "      <td>2.214286</td>\n",
       "      <td>1.672131</td>\n",
       "      <td>2.235294</td>\n",
       "      <td>1.362500</td>\n",
       "      <td>2.197368</td>\n",
       "      <td>0.901235</td>\n",
       "      <td>3.000000</td>\n",
       "      <td>3.986667</td>\n",
       "      <td>1.924528</td>\n",
       "      <td>0.796610</td>\n",
       "      <td>0.347826</td>\n",
       "      <td>10.231707</td>\n",
       "      <td>0.445887</td>\n",
       "      <td>0.772277</td>\n",
       "      <td>0.336735</td>\n",
       "    </tr>\n",
       "    <tr>\n",
       "      <th>75%</th>\n",
       "      <td>80.000000</td>\n",
       "      <td>33.045833</td>\n",
       "      <td>5.506667</td>\n",
       "      <td>12.234568</td>\n",
       "      <td>1.382716</td>\n",
       "      <td>3.743902</td>\n",
       "      <td>2.802469</td>\n",
       "      <td>3.610390</td>\n",
       "      <td>2.000000</td>\n",
       "      <td>2.649351</td>\n",
       "      <td>1.631579</td>\n",
       "      <td>4.253731</td>\n",
       "      <td>5.769231</td>\n",
       "      <td>3.325000</td>\n",
       "      <td>1.102941</td>\n",
       "      <td>0.650000</td>\n",
       "      <td>14.876712</td>\n",
       "      <td>0.480094</td>\n",
       "      <td>0.823913</td>\n",
       "      <td>0.376238</td>\n",
       "    </tr>\n",
       "    <tr>\n",
       "      <th>max</th>\n",
       "      <td>85.000000</td>\n",
       "      <td>43.700000</td>\n",
       "      <td>12.225000</td>\n",
       "      <td>27.816667</td>\n",
       "      <td>5.130435</td>\n",
       "      <td>13.179487</td>\n",
       "      <td>10.176471</td>\n",
       "      <td>13.135135</td>\n",
       "      <td>5.728395</td>\n",
       "      <td>4.524390</td>\n",
       "      <td>5.432099</td>\n",
       "      <td>11.410959</td>\n",
       "      <td>15.987179</td>\n",
       "      <td>11.698113</td>\n",
       "      <td>2.885246</td>\n",
       "      <td>3.721519</td>\n",
       "      <td>36.128205</td>\n",
       "      <td>0.741935</td>\n",
       "      <td>1.000000</td>\n",
       "      <td>1.000000</td>\n",
       "    </tr>\n",
       "  </tbody>\n",
       "</table>\n",
       "</div>"
      ],
      "text/plain": [
       "                GP          MIN          FGM          FGA          3PM  \\\n",
       "count  3805.000000  3805.000000  3805.000000  3805.000000  3805.000000   \n",
       "mean     73.231275    26.765433     4.275291     9.408648     0.856391   \n",
       "std       8.728503     7.595336     2.130307     4.557657     0.784792   \n",
       "min       1.000000     0.700000     0.000000     0.000000     0.000000   \n",
       "25%      69.000000    20.887838     2.670732     5.926829     0.075000   \n",
       "50%      75.000000    27.037037     3.859155     8.546667     0.756757   \n",
       "75%      80.000000    33.045833     5.506667    12.234568     1.382716   \n",
       "max      85.000000    43.700000    12.225000    27.816667     5.130435   \n",
       "\n",
       "               3PA          FTM          FTA          TOV           PF  \\\n",
       "count  3805.000000  3805.000000  3805.000000  3805.000000  3805.000000   \n",
       "mean      2.373824     2.120937     2.771331     1.532951     2.206905   \n",
       "std       2.040710     1.581294     1.976040     0.798819     0.631901   \n",
       "min       0.000000     0.000000     0.000000     0.000000     0.000000   \n",
       "25%       0.328571     1.000000     1.351351     0.922078     1.760563   \n",
       "50%       2.214286     1.672131     2.235294     1.362500     2.197368   \n",
       "75%       3.743902     2.802469     3.610390     2.000000     2.649351   \n",
       "max      13.179487    10.176471    13.135135     5.728395     4.524390   \n",
       "\n",
       "               ORB          DRB          REB          AST          STL  \\\n",
       "count  3805.000000  3805.000000  3805.000000  3805.000000  3805.000000   \n",
       "mean      1.162078     3.413317     4.575394     2.528817     0.871902   \n",
       "std       0.860941     1.755627     2.463575     1.968520     0.433230   \n",
       "min       0.000000     0.000000     0.000000     0.000000     0.000000   \n",
       "25%       0.492063     2.172840     2.789474     1.106383     0.553846   \n",
       "50%       0.901235     3.000000     3.986667     1.924528     0.796610   \n",
       "75%       1.631579     4.253731     5.769231     3.325000     1.102941   \n",
       "max       5.432099    11.410959    15.987179    11.698113     2.885246   \n",
       "\n",
       "               BLK          PTS          FG%          FT%        3PFG%  \n",
       "count  3805.000000  3805.000000  3805.000000  3805.000000  3805.000000  \n",
       "mean      0.512588    11.527910     0.454064     0.754847     0.287543  \n",
       "std       0.510248     5.964697     0.054435     0.098617     0.147018  \n",
       "min       0.000000     0.000000     0.000000     0.000000     0.000000  \n",
       "25%       0.182927     7.060976     0.419966     0.705882     0.250000  \n",
       "50%       0.347826    10.231707     0.445887     0.772277     0.336735  \n",
       "75%       0.650000    14.876712     0.480094     0.823913     0.376238  \n",
       "max       3.721519    36.128205     0.741935     1.000000     1.000000  "
      ]
     },
     "execution_count": 23,
     "metadata": {},
     "output_type": "execute_result"
    }
   ],
   "source": [
    "df_US.describe()"
   ]
  },
  {
   "cell_type": "code",
   "execution_count": 24,
   "metadata": {
    "colab": {
     "base_uri": "https://localhost:8080/",
     "height": 320
    },
    "id": "DDoVbhn846mT",
    "outputId": "f01b0884-5b0c-413f-b055-18570046b393"
   },
   "outputs": [
    {
     "data": {
      "text/html": [
       "<div>\n",
       "<style scoped>\n",
       "    .dataframe tbody tr th:only-of-type {\n",
       "        vertical-align: middle;\n",
       "    }\n",
       "\n",
       "    .dataframe tbody tr th {\n",
       "        vertical-align: top;\n",
       "    }\n",
       "\n",
       "    .dataframe thead th {\n",
       "        text-align: right;\n",
       "    }\n",
       "</style>\n",
       "<table border=\"1\" class=\"dataframe\">\n",
       "  <thead>\n",
       "    <tr style=\"text-align: right;\">\n",
       "      <th></th>\n",
       "      <th>GP</th>\n",
       "      <th>MIN</th>\n",
       "      <th>FGM</th>\n",
       "      <th>FGA</th>\n",
       "      <th>3PM</th>\n",
       "      <th>3PA</th>\n",
       "      <th>FTM</th>\n",
       "      <th>FTA</th>\n",
       "      <th>TOV</th>\n",
       "      <th>PF</th>\n",
       "      <th>ORB</th>\n",
       "      <th>DRB</th>\n",
       "      <th>REB</th>\n",
       "      <th>AST</th>\n",
       "      <th>STL</th>\n",
       "      <th>BLK</th>\n",
       "      <th>PTS</th>\n",
       "      <th>FG%</th>\n",
       "      <th>FT%</th>\n",
       "      <th>3PFG%</th>\n",
       "    </tr>\n",
       "  </thead>\n",
       "  <tbody>\n",
       "    <tr>\n",
       "      <th>count</th>\n",
       "      <td>853.000000</td>\n",
       "      <td>853.000000</td>\n",
       "      <td>853.000000</td>\n",
       "      <td>853.000000</td>\n",
       "      <td>853.000000</td>\n",
       "      <td>853.000000</td>\n",
       "      <td>853.000000</td>\n",
       "      <td>853.000000</td>\n",
       "      <td>853.000000</td>\n",
       "      <td>853.000000</td>\n",
       "      <td>853.000000</td>\n",
       "      <td>853.000000</td>\n",
       "      <td>853.000000</td>\n",
       "      <td>853.000000</td>\n",
       "      <td>853.000000</td>\n",
       "      <td>853.000000</td>\n",
       "      <td>853.000000</td>\n",
       "      <td>853.000000</td>\n",
       "      <td>853.000000</td>\n",
       "      <td>853.000000</td>\n",
       "    </tr>\n",
       "    <tr>\n",
       "      <th>mean</th>\n",
       "      <td>72.932005</td>\n",
       "      <td>24.939239</td>\n",
       "      <td>4.003287</td>\n",
       "      <td>8.405555</td>\n",
       "      <td>0.703154</td>\n",
       "      <td>1.924033</td>\n",
       "      <td>1.893568</td>\n",
       "      <td>2.493109</td>\n",
       "      <td>1.467276</td>\n",
       "      <td>2.245985</td>\n",
       "      <td>1.377637</td>\n",
       "      <td>3.755211</td>\n",
       "      <td>5.132848</td>\n",
       "      <td>2.243764</td>\n",
       "      <td>0.690422</td>\n",
       "      <td>0.640339</td>\n",
       "      <td>10.603309</td>\n",
       "      <td>0.476985</td>\n",
       "      <td>0.747008</td>\n",
       "      <td>0.260702</td>\n",
       "    </tr>\n",
       "    <tr>\n",
       "      <th>std</th>\n",
       "      <td>8.851942</td>\n",
       "      <td>7.164328</td>\n",
       "      <td>1.905975</td>\n",
       "      <td>3.878100</td>\n",
       "      <td>0.732852</td>\n",
       "      <td>1.906309</td>\n",
       "      <td>1.301579</td>\n",
       "      <td>1.611437</td>\n",
       "      <td>0.684425</td>\n",
       "      <td>0.620501</td>\n",
       "      <td>0.948022</td>\n",
       "      <td>1.900082</td>\n",
       "      <td>2.656686</td>\n",
       "      <td>1.906756</td>\n",
       "      <td>0.325657</td>\n",
       "      <td>0.586208</td>\n",
       "      <td>5.186511</td>\n",
       "      <td>0.059147</td>\n",
       "      <td>0.106240</td>\n",
       "      <td>0.176743</td>\n",
       "    </tr>\n",
       "    <tr>\n",
       "      <th>min</th>\n",
       "      <td>4.000000</td>\n",
       "      <td>8.580597</td>\n",
       "      <td>0.564516</td>\n",
       "      <td>1.096774</td>\n",
       "      <td>0.000000</td>\n",
       "      <td>0.000000</td>\n",
       "      <td>0.066667</td>\n",
       "      <td>0.177419</td>\n",
       "      <td>0.253731</td>\n",
       "      <td>0.735294</td>\n",
       "      <td>0.080645</td>\n",
       "      <td>0.625000</td>\n",
       "      <td>0.805556</td>\n",
       "      <td>0.103896</td>\n",
       "      <td>0.090909</td>\n",
       "      <td>0.000000</td>\n",
       "      <td>1.403226</td>\n",
       "      <td>0.292621</td>\n",
       "      <td>0.261538</td>\n",
       "      <td>0.000000</td>\n",
       "    </tr>\n",
       "    <tr>\n",
       "      <th>25%</th>\n",
       "      <td>68.000000</td>\n",
       "      <td>19.000000</td>\n",
       "      <td>2.492537</td>\n",
       "      <td>5.298507</td>\n",
       "      <td>0.000000</td>\n",
       "      <td>0.039474</td>\n",
       "      <td>0.919355</td>\n",
       "      <td>1.256098</td>\n",
       "      <td>0.931507</td>\n",
       "      <td>1.775000</td>\n",
       "      <td>0.571429</td>\n",
       "      <td>2.365854</td>\n",
       "      <td>3.095238</td>\n",
       "      <td>0.942857</td>\n",
       "      <td>0.450000</td>\n",
       "      <td>0.197183</td>\n",
       "      <td>6.449275</td>\n",
       "      <td>0.436464</td>\n",
       "      <td>0.698925</td>\n",
       "      <td>0.000000</td>\n",
       "    </tr>\n",
       "    <tr>\n",
       "      <th>50%</th>\n",
       "      <td>75.000000</td>\n",
       "      <td>25.190476</td>\n",
       "      <td>3.650000</td>\n",
       "      <td>7.878049</td>\n",
       "      <td>0.527778</td>\n",
       "      <td>1.558442</td>\n",
       "      <td>1.555556</td>\n",
       "      <td>2.077922</td>\n",
       "      <td>1.375000</td>\n",
       "      <td>2.243902</td>\n",
       "      <td>1.161765</td>\n",
       "      <td>3.312500</td>\n",
       "      <td>4.539683</td>\n",
       "      <td>1.646341</td>\n",
       "      <td>0.634146</td>\n",
       "      <td>0.437500</td>\n",
       "      <td>9.725806</td>\n",
       "      <td>0.466667</td>\n",
       "      <td>0.764368</td>\n",
       "      <td>0.333333</td>\n",
       "    </tr>\n",
       "    <tr>\n",
       "      <th>75%</th>\n",
       "      <td>80.000000</td>\n",
       "      <td>31.063014</td>\n",
       "      <td>5.282051</td>\n",
       "      <td>10.925373</td>\n",
       "      <td>1.253333</td>\n",
       "      <td>3.368421</td>\n",
       "      <td>2.487805</td>\n",
       "      <td>3.230769</td>\n",
       "      <td>1.890411</td>\n",
       "      <td>2.693333</td>\n",
       "      <td>1.982456</td>\n",
       "      <td>4.850000</td>\n",
       "      <td>6.862500</td>\n",
       "      <td>2.987805</td>\n",
       "      <td>0.885714</td>\n",
       "      <td>0.948718</td>\n",
       "      <td>13.986111</td>\n",
       "      <td>0.512311</td>\n",
       "      <td>0.818182</td>\n",
       "      <td>0.376761</td>\n",
       "    </tr>\n",
       "    <tr>\n",
       "      <th>max</th>\n",
       "      <td>82.000000</td>\n",
       "      <td>40.296296</td>\n",
       "      <td>10.873016</td>\n",
       "      <td>20.573770</td>\n",
       "      <td>3.763889</td>\n",
       "      <td>9.555556</td>\n",
       "      <td>8.156250</td>\n",
       "      <td>10.140625</td>\n",
       "      <td>4.262295</td>\n",
       "      <td>4.012821</td>\n",
       "      <td>5.052632</td>\n",
       "      <td>11.365079</td>\n",
       "      <td>14.109756</td>\n",
       "      <td>11.631579</td>\n",
       "      <td>2.329268</td>\n",
       "      <td>3.651515</td>\n",
       "      <td>29.476190</td>\n",
       "      <td>0.692998</td>\n",
       "      <td>0.937778</td>\n",
       "      <td>1.000000</td>\n",
       "    </tr>\n",
       "  </tbody>\n",
       "</table>\n",
       "</div>"
      ],
      "text/plain": [
       "               GP         MIN         FGM         FGA         3PM         3PA  \\\n",
       "count  853.000000  853.000000  853.000000  853.000000  853.000000  853.000000   \n",
       "mean    72.932005   24.939239    4.003287    8.405555    0.703154    1.924033   \n",
       "std      8.851942    7.164328    1.905975    3.878100    0.732852    1.906309   \n",
       "min      4.000000    8.580597    0.564516    1.096774    0.000000    0.000000   \n",
       "25%     68.000000   19.000000    2.492537    5.298507    0.000000    0.039474   \n",
       "50%     75.000000   25.190476    3.650000    7.878049    0.527778    1.558442   \n",
       "75%     80.000000   31.063014    5.282051   10.925373    1.253333    3.368421   \n",
       "max     82.000000   40.296296   10.873016   20.573770    3.763889    9.555556   \n",
       "\n",
       "              FTM         FTA         TOV          PF         ORB         DRB  \\\n",
       "count  853.000000  853.000000  853.000000  853.000000  853.000000  853.000000   \n",
       "mean     1.893568    2.493109    1.467276    2.245985    1.377637    3.755211   \n",
       "std      1.301579    1.611437    0.684425    0.620501    0.948022    1.900082   \n",
       "min      0.066667    0.177419    0.253731    0.735294    0.080645    0.625000   \n",
       "25%      0.919355    1.256098    0.931507    1.775000    0.571429    2.365854   \n",
       "50%      1.555556    2.077922    1.375000    2.243902    1.161765    3.312500   \n",
       "75%      2.487805    3.230769    1.890411    2.693333    1.982456    4.850000   \n",
       "max      8.156250   10.140625    4.262295    4.012821    5.052632   11.365079   \n",
       "\n",
       "              REB         AST         STL         BLK         PTS         FG%  \\\n",
       "count  853.000000  853.000000  853.000000  853.000000  853.000000  853.000000   \n",
       "mean     5.132848    2.243764    0.690422    0.640339   10.603309    0.476985   \n",
       "std      2.656686    1.906756    0.325657    0.586208    5.186511    0.059147   \n",
       "min      0.805556    0.103896    0.090909    0.000000    1.403226    0.292621   \n",
       "25%      3.095238    0.942857    0.450000    0.197183    6.449275    0.436464   \n",
       "50%      4.539683    1.646341    0.634146    0.437500    9.725806    0.466667   \n",
       "75%      6.862500    2.987805    0.885714    0.948718   13.986111    0.512311   \n",
       "max     14.109756   11.631579    2.329268    3.651515   29.476190    0.692998   \n",
       "\n",
       "              FT%       3PFG%  \n",
       "count  853.000000  853.000000  \n",
       "mean     0.747008    0.260702  \n",
       "std      0.106240    0.176743  \n",
       "min      0.261538    0.000000  \n",
       "25%      0.698925    0.000000  \n",
       "50%      0.764368    0.333333  \n",
       "75%      0.818182    0.376761  \n",
       "max      0.937778    1.000000  "
      ]
     },
     "execution_count": 24,
     "metadata": {},
     "output_type": "execute_result"
    }
   ],
   "source": [
    "df_INT.describe()"
   ]
  },
  {
   "cell_type": "markdown",
   "metadata": {
    "id": "i72wbKKex_y_"
   },
   "source": [
    "## Career Box Score Stats EDA\n",
    "\n",
    "This is just basic data analysis on the standard box scores averages over every players career between 2000 to 2020. \n",
    "\n",
    "**Notes: This section is very graph heavy right now. Looking into other methods for visualizing this data since each distribution is relatively similar.**"
   ]
  },
  {
   "cell_type": "code",
   "execution_count": 25,
   "metadata": {
    "id": "gVyWOHX-4pbq"
   },
   "outputs": [],
   "source": [
    "def shooting_eff_data(data1, data2, stat1, stat2, bins):\n",
    "\n",
    "  FG_avg_1 = data1[stat1] / data1[stat2]\n",
    "  FG_avg_2 = data2[stat1] / data2[stat2]\n",
    "\n",
    "  fig, ax =plt.subplots(1,2)\n",
    "  sns.histplot(data=data1, x=FG_avg_1, bins=bins, color='#DDAFE8', ax=ax[0]).set(xlim=(0,1), title='United States')\n",
    "  sns.histplot(data=data2, x=FG_avg_2, bins=bins, color='#FA8775', ax=ax[1]).set(xlim=(0,1), title='International')\n",
    "\n",
    "  fig.tight_layout(pad=3)\n",
    "\n",
    "  fig.show()"
   ]
  },
  {
   "cell_type": "code",
   "execution_count": 26,
   "metadata": {
    "id": "OVB7oKk_fqi1"
   },
   "outputs": [],
   "source": [
    "# Function that takes in DataFrame and column and averages the values and displays histogram\n",
    "\n",
    "def stats_data(data1, data2, stat, bins, xlim):\n",
    "\n",
    "  fig, ax =plt.subplots(1,2)\n",
    "  sns.histplot(data=data1, x=stat, bins=bins, color='#DDAFE8', ax=ax[0]).set(xlim=(0,xlim), title='United States')\n",
    "  sns.histplot(data=data2, x=stat, bins=bins, color='#FA8775', ax=ax[1]).set(xlim=(0,xlim), title='International')\n",
    "\n",
    "  fig.tight_layout(pad=3)\n",
    "\n",
    "  fig.show()"
   ]
  },
  {
   "cell_type": "markdown",
   "metadata": {
    "id": "r9BYBqFy3lgy"
   },
   "source": [
    "### Field Goal Percentage (FGM / FGA)\n",
    "\n",
    "Effective Field Goal Percentage: $$\\frac{Points}{2 * (FGA+0.44*FTA)}$$"
   ]
  },
  {
   "cell_type": "code",
   "execution_count": 27,
   "metadata": {
    "colab": {
     "base_uri": "https://localhost:8080/",
     "height": 583
    },
    "id": "iEz_Zt9FwJt5",
    "outputId": "e6856e72-6858-4cbd-d6ea-f7c0b02ed195"
   },
   "outputs": [
    {
     "name": "stdout",
     "output_type": "stream",
     "text": [
      "Standard Field-Goal Percentage\n"
     ]
    },
    {
     "data": {
      "image/png": "[encoded data removed]",
      "text/plain": [
       "<Figure size 432x288 with 2 Axes>"
      ]
     },
     "metadata": {
      "needs_background": "light"
     },
     "output_type": "display_data"
    }
   ],
   "source": [
    "print('Standard Field-Goal Percentage')\n",
    "shooting_eff_data(df_US, df_INT, 'FGM', 'FGA', 10)"
   ]
  },
  {
   "cell_type": "markdown",
   "metadata": {
    "id": "HbcQbaFxInkn"
   },
   "source": [
    "We see both distributions are centered around 0.4-0.5 with no obvious outliers"
   ]
  },
  {
   "cell_type": "code",
   "execution_count": 28,
   "metadata": {
    "colab": {
     "base_uri": "https://localhost:8080/",
     "height": 530
    },
    "id": "kU0rHmNjQJ08",
    "outputId": "1b565acb-598d-4087-b45b-9761038af9df"
   },
   "outputs": [
    {
     "name": "stdout",
     "output_type": "stream",
     "text": [
      "Effective Field-Goal Percentage\n"
     ]
    },
    {
     "data": {
      "image/png": "[encoded data removed]",
      "text/plain": [
       "<Figure size 432x288 with 2 Axes>"
      ]
     },
     "metadata": {
      "needs_background": "light"
     },
     "output_type": "display_data"
    }
   ],
   "source": [
    "def effective_fg_per(US_data, INT_data, points, FGA, FTA, bins):\n",
    "  \n",
    "  avg_US = US_data[points] / (2*(US_data[FGA] + 0.44*US_data[FTA]))\n",
    "  avg_INT = INT_data[points] / (2*(INT_data[FGA] + 0.44*INT_data[FTA]))\n",
    "\n",
    "  fig, ax =plt.subplots(1,2)\n",
    "  sns.histplot(data=US_data, x=avg_US, bins=bins, color='#DDAFE8', ax=ax[0]).set(xlim=(0,1), title='United States')\n",
    "  sns.histplot(data=INT_data, x=avg_INT, bins=bins, color='#FA8775', ax=ax[1]).set(xlim=(0,1), title='International')\n",
    "  fig.show()\n",
    "\n",
    "print('Effective Field-Goal Percentage')\n",
    "effective_fg_per(df_US, df_INT, 'PTS', 'FGA', 'FTA', 10)"
   ]
  },
  {
   "cell_type": "markdown",
   "metadata": {
    "id": "Vi2S-glQLvEt"
   },
   "source": [
    "We see both distributions are centered around 0.5 with no obvious outliers"
   ]
  },
  {
   "cell_type": "markdown",
   "metadata": {
    "id": "-9rheLxU3rbL"
   },
   "source": [
    "### Free Throw Percentage (FTM / FTA)"
   ]
  },
  {
   "cell_type": "code",
   "execution_count": 29,
   "metadata": {
    "colab": {
     "base_uri": "https://localhost:8080/",
     "height": 566
    },
    "id": "Pn9bJnhk6NH6",
    "outputId": "2a2d7859-fa7a-42d1-d040-fec6eacaf73f"
   },
   "outputs": [
    {
     "data": {
      "image/png": "[encoded data removed]",
      "text/plain": [
       "<Figure size 432x288 with 2 Axes>"
      ]
     },
     "metadata": {
      "needs_background": "light"
     },
     "output_type": "display_data"
    }
   ],
   "source": [
    "shooting_eff_data(df_US, df_INT, 'FTM', 'FTA', 10)"
   ]
  },
  {
   "cell_type": "markdown",
   "metadata": {
    "id": "KO_O-ktnMBCq"
   },
   "source": [
    "We both distributions are skewed left, but we also notice that the US has players shooting high 90% from the free throw line and international does not."
   ]
  },
  {
   "cell_type": "markdown",
   "metadata": {
    "id": "yaAC6FaV3sJB"
   },
   "source": [
    "### Turnovers"
   ]
  },
  {
   "cell_type": "code",
   "execution_count": 30,
   "metadata": {
    "colab": {
     "base_uri": "https://localhost:8080/",
     "height": 583
    },
    "id": "wKitskKA6Nuq",
    "outputId": "2d90e488-0e55-446b-a78b-fc4a246c08df"
   },
   "outputs": [
    {
     "name": "stdout",
     "output_type": "stream",
     "text": [
      "Average Turnovers\n"
     ]
    },
    {
     "data": {
      "image/png": "[encoded data removed]",
      "text/plain": [
       "<Figure size 432x288 with 2 Axes>"
      ]
     },
     "metadata": {
      "needs_background": "light"
     },
     "output_type": "display_data"
    }
   ],
   "source": [
    "print('Average Turnovers')\n",
    "stats_data(df_US, df_INT, 'TOV', 15, 6)"
   ]
  },
  {
   "cell_type": "markdown",
   "metadata": {
    "id": "PKa3J0CrNKF7"
   },
   "source": [
    "We both distributions are skewed to the right, however we see that the US distributions stretches farther right than the International. Additionally, it has an outlier at roughly 5.5."
   ]
  },
  {
   "cell_type": "markdown",
   "metadata": {
    "id": "SEWj5XSpTkys"
   },
   "source": [
    "Turnover Percentage: $$\\frac{TOV}{FGA+0.44*FTA+TOV}$$\n",
    "\n",
    "This statistic is an estimation of the number of turnovers a player will commit every 100 plays(Will go into more detail in final project)."
   ]
  },
  {
   "cell_type": "code",
   "execution_count": 31,
   "metadata": {
    "colab": {
     "base_uri": "https://localhost:8080/",
     "height": 530
    },
    "id": "7NzATkQ6SLx-",
    "outputId": "0eafc6d7-67c8-4a03-f412-0ee7babb6a8b"
   },
   "outputs": [
    {
     "name": "stdout",
     "output_type": "stream",
     "text": [
      "Turnover Percentage\n"
     ]
    },
    {
     "data": {
      "image/png": "[encoded data removed]",
      "text/plain": [
       "<Figure size 432x288 with 2 Axes>"
      ]
     },
     "metadata": {
      "needs_background": "light"
     },
     "output_type": "display_data"
    }
   ],
   "source": [
    "def turnover_per(US_data, INT_data, TO, FGA, FTA, bins):\n",
    "  \n",
    "  avg_US = US_data[TO] / (US_data[FGA] + 0.44*US_data[FTA] + US_data[TO])\n",
    "  avg_INT = INT_data[TO] / (INT_data[FGA] + 0.44*INT_data[FTA] + INT_data[TO])\n",
    "\n",
    "  fig, ax =plt.subplots(1,2)\n",
    "  sns.histplot(data=US_data, x=avg_US, bins=bins, color='#DDAFE8', ax=ax[0]).set(xlim=(0,.3), title='United States')\n",
    "  sns.histplot(data=INT_data, x=avg_INT, bins=bins, color='#FA8775', ax=ax[1]).set(xlim=(0,.3), title='International')\n",
    "  fig.show()\n",
    "\n",
    "print('Turnover Percentage')\n",
    "turnover_per(df_US, df_INT, 'TOV', 'FGA', 'FTA', 10)"
   ]
  },
  {
   "cell_type": "markdown",
   "metadata": {
    "id": "hTPw71HEN2gL"
   },
   "source": [
    "Here we notice that international players seem to have less variability and seem to have a slightly less turnover percentage on average when compared to US players."
   ]
  },
  {
   "cell_type": "markdown",
   "metadata": {
    "id": "tvMVnLeS3sy8"
   },
   "source": [
    "### Personal Fouls"
   ]
  },
  {
   "cell_type": "code",
   "execution_count": 32,
   "metadata": {
    "colab": {
     "base_uri": "https://localhost:8080/",
     "height": 566
    },
    "id": "6V83QX2E6OZh",
    "outputId": "18c4525a-a229-4585-f116-bdf03f27942a"
   },
   "outputs": [
    {
     "data": {
      "image/png": "[encoded data removed]",
      "text/plain": [
       "<Figure size 432x288 with 2 Axes>"
      ]
     },
     "metadata": {
      "needs_background": "light"
     },
     "output_type": "display_data"
    }
   ],
   "source": [
    "stats_data(df_US, df_INT, 'PF', 15, 5)"
   ]
  },
  {
   "cell_type": "markdown",
   "metadata": {
    "id": "YuzQkJLWPNQo"
   },
   "source": [
    "**Note: Personal fouls are not necessarily a good performance metric, but when compared with steals we can try to develop a model that shows effectiveness on defense.**\n",
    "\n",
    "Here we see that both distributions are very similar where the US players seem to have a greater spread."
   ]
  },
  {
   "cell_type": "markdown",
   "metadata": {
    "id": "the_9LCF3tGp"
   },
   "source": [
    "### Rebounds"
   ]
  },
  {
   "cell_type": "code",
   "execution_count": 33,
   "metadata": {
    "colab": {
     "base_uri": "https://localhost:8080/",
     "height": 566
    },
    "id": "l-CyA9XN6K2x",
    "outputId": "6bfedf63-cfa8-4992-96d8-9fd59c5fb829"
   },
   "outputs": [
    {
     "data": {
      "image/png": "[encoded data removed]",
      "text/plain": [
       "<Figure size 432x288 with 2 Axes>"
      ]
     },
     "metadata": {
      "needs_background": "light"
     },
     "output_type": "display_data"
    }
   ],
   "source": [
    "stats_data(df_US, df_INT, 'REB', 20, 17)"
   ]
  },
  {
   "cell_type": "markdown",
   "metadata": {
    "id": "mBnJZ3T2Phw5"
   },
   "source": [
    "Here we see both distributions are skewed to the right, but the US seems to peak at about 2 rebounds higher than the International distribution."
   ]
  },
  {
   "cell_type": "markdown",
   "metadata": {
    "id": "BYzfYyLi4WU7"
   },
   "source": [
    "### Assists"
   ]
  },
  {
   "cell_type": "code",
   "execution_count": 34,
   "metadata": {
    "colab": {
     "base_uri": "https://localhost:8080/",
     "height": 566
    },
    "id": "lseD6Xwj6PWw",
    "outputId": "a107da28-a7ac-410d-d8b9-ae19c15b44f5"
   },
   "outputs": [
    {
     "data": {
      "image/png": "[encoded data removed]",
      "text/plain": [
       "<Figure size 432x288 with 2 Axes>"
      ]
     },
     "metadata": {
      "needs_background": "light"
     },
     "output_type": "display_data"
    }
   ],
   "source": [
    "stats_data(df_US, df_INT, 'AST', 20, 15)"
   ]
  },
  {
   "cell_type": "markdown",
   "metadata": {
    "id": "c9AqOYmyPvHp"
   },
   "source": [
    "Both distributions here are skewed right and very similar."
   ]
  },
  {
   "cell_type": "markdown",
   "metadata": {
    "id": "-bE00_My4Wo9"
   },
   "source": [
    "### Steals"
   ]
  },
  {
   "cell_type": "code",
   "execution_count": 35,
   "metadata": {
    "colab": {
     "base_uri": "https://localhost:8080/",
     "height": 566
    },
    "id": "Mtg5Plah6P5M",
    "outputId": "bcb79778-f964-4a82-8863-c405d6f45787"
   },
   "outputs": [
    {
     "data": {
      "image/png": "[encoded data removed]",
      "text/plain": [
       "<Figure size 432x288 with 2 Axes>"
      ]
     },
     "metadata": {
      "needs_background": "light"
     },
     "output_type": "display_data"
    }
   ],
   "source": [
    "stats_data(df_US, df_INT, 'STL', 15, 3)"
   ]
  },
  {
   "cell_type": "markdown",
   "metadata": {
    "id": "DJMQlKOuP3ac"
   },
   "source": [
    "Both distributions appear to be slightly skewed right with means of roughly 0.6"
   ]
  },
  {
   "cell_type": "markdown",
   "metadata": {
    "id": "Ajwi_9o84b8S"
   },
   "source": [
    "### Blocks"
   ]
  },
  {
   "cell_type": "code",
   "execution_count": 36,
   "metadata": {
    "colab": {
     "base_uri": "https://localhost:8080/",
     "height": 566
    },
    "id": "H7Mh67ja6Ql6",
    "outputId": "fb5b9cfc-2791-435d-c2e4-91e6752cae20"
   },
   "outputs": [
    {
     "data": {
      "image/png": "[encoded data removed]",
      "text/plain": [
       "<Figure size 432x288 with 2 Axes>"
      ]
     },
     "metadata": {
      "needs_background": "light"
     },
     "output_type": "display_data"
    }
   ],
   "source": [
    "stats_data(df_US, df_INT, 'BLK', 15, 4)"
   ]
  },
  {
   "cell_type": "markdown",
   "metadata": {
    "id": "E6KSZMWXQBuB"
   },
   "source": [
    "Both distributions are skewed right and are very similar."
   ]
  },
  {
   "cell_type": "markdown",
   "metadata": {
    "id": "oW2fRlrk4esD"
   },
   "source": [
    "### Points"
   ]
  },
  {
   "cell_type": "code",
   "execution_count": 37,
   "metadata": {
    "colab": {
     "base_uri": "https://localhost:8080/",
     "height": 566
    },
    "id": "nzAmE8BH6RMY",
    "outputId": "7197aa1e-76d0-4e70-e93e-98e2c56394cc"
   },
   "outputs": [
    {
     "data": {
      "image/png": "[encoded data removed]",
      "text/plain": [
       "<Figure size 432x288 with 2 Axes>"
      ]
     },
     "metadata": {
      "needs_background": "light"
     },
     "output_type": "display_data"
    }
   ],
   "source": [
    "stats_data(df_US, df_INT, 'PTS', 20, 40)"
   ]
  },
  {
   "cell_type": "markdown",
   "metadata": {
    "id": "SPVVcndvQJsQ"
   },
   "source": [
    "Both distributions are skewed right, however the US does peak about 6-7 points higher than the International distribution."
   ]
  },
  {
   "cell_type": "markdown",
   "metadata": {
    "id": "0gq1TPJGGjxv"
   },
   "source": [
    "### EFF Rating"
   ]
  },
  {
   "cell_type": "markdown",
   "metadata": {
    "id": "rNbq_tMLQX3i"
   },
   "source": [
    "**Note: This is going to be moved into it's own section**"
   ]
  },
  {
   "cell_type": "code",
   "execution_count": 42,
   "metadata": {
    "colab": {
     "base_uri": "https://localhost:8080/",
     "height": 566
    },
    "id": "8RAf1-QHGmSH",
    "outputId": "a0ad8336-2687-4c49-c0b3-26f115ff3ab2"
   },
   "outputs": [
    {
     "ename": "ValueError",
     "evalue": "Could not interpret value `EFF` for parameter `x`",
     "output_type": "error",
     "traceback": [
      "\u001b[0;31m---------------------------------------------------------------------------\u001b[0m",
      "\u001b[0;31mValueError\u001b[0m                                Traceback (most recent call last)",
      "\u001b[0;32m/tmp/ipykernel_8827/2232332729.py\u001b[0m in \u001b[0;36m<module>\u001b[0;34m\u001b[0m\n\u001b[0;32m----> 1\u001b[0;31m \u001b[0mstats_data\u001b[0m\u001b[0;34m(\u001b[0m\u001b[0mdf_US\u001b[0m\u001b[0;34m,\u001b[0m \u001b[0mdf_INT\u001b[0m\u001b[0;34m,\u001b[0m \u001b[0;34m'EFF'\u001b[0m\u001b[0;34m,\u001b[0m \u001b[0;36m20\u001b[0m\u001b[0;34m,\u001b[0m \u001b[0;36m40\u001b[0m\u001b[0;34m)\u001b[0m\u001b[0;34m\u001b[0m\u001b[0;34m\u001b[0m\u001b[0m\n\u001b[0m",
      "\u001b[0;32m/tmp/ipykernel_8827/3454108743.py\u001b[0m in \u001b[0;36mstats_data\u001b[0;34m(data1, data2, stat, bins, xlim)\u001b[0m\n\u001b[1;32m      4\u001b[0m \u001b[0;34m\u001b[0m\u001b[0m\n\u001b[1;32m      5\u001b[0m   \u001b[0mfig\u001b[0m\u001b[0;34m,\u001b[0m \u001b[0max\u001b[0m \u001b[0;34m=\u001b[0m\u001b[0mplt\u001b[0m\u001b[0;34m.\u001b[0m\u001b[0msubplots\u001b[0m\u001b[0;34m(\u001b[0m\u001b[0;36m1\u001b[0m\u001b[0;34m,\u001b[0m\u001b[0;36m2\u001b[0m\u001b[0;34m)\u001b[0m\u001b[0;34m\u001b[0m\u001b[0;34m\u001b[0m\u001b[0m\n\u001b[0;32m----> 6\u001b[0;31m   \u001b[0msns\u001b[0m\u001b[0;34m.\u001b[0m\u001b[0mhistplot\u001b[0m\u001b[0;34m(\u001b[0m\u001b[0mdata\u001b[0m\u001b[0;34m=\u001b[0m\u001b[0mdata1\u001b[0m\u001b[0;34m,\u001b[0m \u001b[0mx\u001b[0m\u001b[0;34m=\u001b[0m\u001b[0mstat\u001b[0m\u001b[0;34m,\u001b[0m \u001b[0mbins\u001b[0m\u001b[0;34m=\u001b[0m\u001b[0mbins\u001b[0m\u001b[0;34m,\u001b[0m \u001b[0mcolor\u001b[0m\u001b[0;34m=\u001b[0m\u001b[0;34m'#DDAFE8'\u001b[0m\u001b[0;34m,\u001b[0m \u001b[0max\u001b[0m\u001b[0;34m=\u001b[0m\u001b[0max\u001b[0m\u001b[0;34m[\u001b[0m\u001b[0;36m0\u001b[0m\u001b[0;34m]\u001b[0m\u001b[0;34m)\u001b[0m\u001b[0;34m.\u001b[0m\u001b[0mset\u001b[0m\u001b[0;34m(\u001b[0m\u001b[0mxlim\u001b[0m\u001b[0;34m=\u001b[0m\u001b[0;34m(\u001b[0m\u001b[0;36m0\u001b[0m\u001b[0;34m,\u001b[0m\u001b[0mxlim\u001b[0m\u001b[0;34m)\u001b[0m\u001b[0;34m,\u001b[0m \u001b[0mtitle\u001b[0m\u001b[0;34m=\u001b[0m\u001b[0;34m'United States'\u001b[0m\u001b[0;34m)\u001b[0m\u001b[0;34m\u001b[0m\u001b[0;34m\u001b[0m\u001b[0m\n\u001b[0m\u001b[1;32m      7\u001b[0m   \u001b[0msns\u001b[0m\u001b[0;34m.\u001b[0m\u001b[0mhistplot\u001b[0m\u001b[0;34m(\u001b[0m\u001b[0mdata\u001b[0m\u001b[0;34m=\u001b[0m\u001b[0mdata2\u001b[0m\u001b[0;34m,\u001b[0m \u001b[0mx\u001b[0m\u001b[0;34m=\u001b[0m\u001b[0mstat\u001b[0m\u001b[0;34m,\u001b[0m \u001b[0mbins\u001b[0m\u001b[0;34m=\u001b[0m\u001b[0mbins\u001b[0m\u001b[0;34m,\u001b[0m \u001b[0mcolor\u001b[0m\u001b[0;34m=\u001b[0m\u001b[0;34m'#FA8775'\u001b[0m\u001b[0;34m,\u001b[0m \u001b[0max\u001b[0m\u001b[0;34m=\u001b[0m\u001b[0max\u001b[0m\u001b[0;34m[\u001b[0m\u001b[0;36m1\u001b[0m\u001b[0;34m]\u001b[0m\u001b[0;34m)\u001b[0m\u001b[0;34m.\u001b[0m\u001b[0mset\u001b[0m\u001b[0;34m(\u001b[0m\u001b[0mxlim\u001b[0m\u001b[0;34m=\u001b[0m\u001b[0;34m(\u001b[0m\u001b[0;36m0\u001b[0m\u001b[0;34m,\u001b[0m\u001b[0mxlim\u001b[0m\u001b[0;34m)\u001b[0m\u001b[0;34m,\u001b[0m \u001b[0mtitle\u001b[0m\u001b[0;34m=\u001b[0m\u001b[0;34m'International'\u001b[0m\u001b[0;34m)\u001b[0m\u001b[0;34m\u001b[0m\u001b[0;34m\u001b[0m\u001b[0m\n\u001b[1;32m      8\u001b[0m \u001b[0;34m\u001b[0m\u001b[0m\n",
      "\u001b[0;32m/opt/conda/lib/python3.9/site-packages/seaborn/distributions.py\u001b[0m in \u001b[0;36mhistplot\u001b[0;34m(data, x, y, hue, weights, stat, bins, binwidth, binrange, discrete, cumulative, common_bins, common_norm, multiple, element, fill, shrink, kde, kde_kws, line_kws, thresh, pthresh, pmax, cbar, cbar_ax, cbar_kws, palette, hue_order, hue_norm, color, log_scale, legend, ax, **kwargs)\u001b[0m\n\u001b[1;32m   1389\u001b[0m ):\n\u001b[1;32m   1390\u001b[0m \u001b[0;34m\u001b[0m\u001b[0m\n\u001b[0;32m-> 1391\u001b[0;31m     p = _DistributionPlotter(\n\u001b[0m\u001b[1;32m   1392\u001b[0m         \u001b[0mdata\u001b[0m\u001b[0;34m=\u001b[0m\u001b[0mdata\u001b[0m\u001b[0;34m,\u001b[0m\u001b[0;34m\u001b[0m\u001b[0;34m\u001b[0m\u001b[0m\n\u001b[1;32m   1393\u001b[0m         \u001b[0mvariables\u001b[0m\u001b[0;34m=\u001b[0m\u001b[0m_DistributionPlotter\u001b[0m\u001b[0;34m.\u001b[0m\u001b[0mget_semantics\u001b[0m\u001b[0;34m(\u001b[0m\u001b[0mlocals\u001b[0m\u001b[0;34m(\u001b[0m\u001b[0;34m)\u001b[0m\u001b[0;34m)\u001b[0m\u001b[0;34m\u001b[0m\u001b[0;34m\u001b[0m\u001b[0m\n",
      "\u001b[0;32m/opt/conda/lib/python3.9/site-packages/seaborn/distributions.py\u001b[0m in \u001b[0;36m__init__\u001b[0;34m(self, data, variables)\u001b[0m\n\u001b[1;32m    107\u001b[0m     ):\n\u001b[1;32m    108\u001b[0m \u001b[0;34m\u001b[0m\u001b[0m\n\u001b[0;32m--> 109\u001b[0;31m         \u001b[0msuper\u001b[0m\u001b[0;34m(\u001b[0m\u001b[0;34m)\u001b[0m\u001b[0;34m.\u001b[0m\u001b[0m__init__\u001b[0m\u001b[0;34m(\u001b[0m\u001b[0mdata\u001b[0m\u001b[0;34m=\u001b[0m\u001b[0mdata\u001b[0m\u001b[0;34m,\u001b[0m \u001b[0mvariables\u001b[0m\u001b[0;34m=\u001b[0m\u001b[0mvariables\u001b[0m\u001b[0;34m)\u001b[0m\u001b[0;34m\u001b[0m\u001b[0;34m\u001b[0m\u001b[0m\n\u001b[0m\u001b[1;32m    110\u001b[0m \u001b[0;34m\u001b[0m\u001b[0m\n\u001b[1;32m    111\u001b[0m     \u001b[0;34m@\u001b[0m\u001b[0mproperty\u001b[0m\u001b[0;34m\u001b[0m\u001b[0;34m\u001b[0m\u001b[0m\n",
      "\u001b[0;32m/opt/conda/lib/python3.9/site-packages/seaborn/_core.py\u001b[0m in \u001b[0;36m__init__\u001b[0;34m(self, data, variables)\u001b[0m\n\u001b[1;32m    602\u001b[0m     \u001b[0;32mdef\u001b[0m \u001b[0m__init__\u001b[0m\u001b[0;34m(\u001b[0m\u001b[0mself\u001b[0m\u001b[0;34m,\u001b[0m \u001b[0mdata\u001b[0m\u001b[0;34m=\u001b[0m\u001b[0;32mNone\u001b[0m\u001b[0;34m,\u001b[0m \u001b[0mvariables\u001b[0m\u001b[0;34m=\u001b[0m\u001b[0;34m{\u001b[0m\u001b[0;34m}\u001b[0m\u001b[0;34m)\u001b[0m\u001b[0;34m:\u001b[0m\u001b[0;34m\u001b[0m\u001b[0;34m\u001b[0m\u001b[0m\n\u001b[1;32m    603\u001b[0m \u001b[0;34m\u001b[0m\u001b[0m\n\u001b[0;32m--> 604\u001b[0;31m         \u001b[0mself\u001b[0m\u001b[0;34m.\u001b[0m\u001b[0massign_variables\u001b[0m\u001b[0;34m(\u001b[0m\u001b[0mdata\u001b[0m\u001b[0;34m,\u001b[0m \u001b[0mvariables\u001b[0m\u001b[0;34m)\u001b[0m\u001b[0;34m\u001b[0m\u001b[0;34m\u001b[0m\u001b[0m\n\u001b[0m\u001b[1;32m    605\u001b[0m \u001b[0;34m\u001b[0m\u001b[0m\n\u001b[1;32m    606\u001b[0m         \u001b[0;32mfor\u001b[0m \u001b[0mvar\u001b[0m\u001b[0;34m,\u001b[0m \u001b[0mcls\u001b[0m \u001b[0;32min\u001b[0m \u001b[0mself\u001b[0m\u001b[0;34m.\u001b[0m\u001b[0m_semantic_mappings\u001b[0m\u001b[0;34m.\u001b[0m\u001b[0mitems\u001b[0m\u001b[0;34m(\u001b[0m\u001b[0;34m)\u001b[0m\u001b[0;34m:\u001b[0m\u001b[0;34m\u001b[0m\u001b[0;34m\u001b[0m\u001b[0m\n",
      "\u001b[0;32m/opt/conda/lib/python3.9/site-packages/seaborn/_core.py\u001b[0m in \u001b[0;36massign_variables\u001b[0;34m(self, data, variables)\u001b[0m\n\u001b[1;32m    665\u001b[0m         \u001b[0;32melse\u001b[0m\u001b[0;34m:\u001b[0m\u001b[0;34m\u001b[0m\u001b[0;34m\u001b[0m\u001b[0m\n\u001b[1;32m    666\u001b[0m             \u001b[0mself\u001b[0m\u001b[0;34m.\u001b[0m\u001b[0minput_format\u001b[0m \u001b[0;34m=\u001b[0m \u001b[0;34m\"long\"\u001b[0m\u001b[0;34m\u001b[0m\u001b[0;34m\u001b[0m\u001b[0m\n\u001b[0;32m--> 667\u001b[0;31m             plot_data, variables = self._assign_variables_longform(\n\u001b[0m\u001b[1;32m    668\u001b[0m                 \u001b[0mdata\u001b[0m\u001b[0;34m,\u001b[0m \u001b[0;34m**\u001b[0m\u001b[0mvariables\u001b[0m\u001b[0;34m,\u001b[0m\u001b[0;34m\u001b[0m\u001b[0;34m\u001b[0m\u001b[0m\n\u001b[1;32m    669\u001b[0m             )\n",
      "\u001b[0;32m/opt/conda/lib/python3.9/site-packages/seaborn/_core.py\u001b[0m in \u001b[0;36m_assign_variables_longform\u001b[0;34m(self, data, **kwargs)\u001b[0m\n\u001b[1;32m    900\u001b[0m \u001b[0;34m\u001b[0m\u001b[0m\n\u001b[1;32m    901\u001b[0m                 \u001b[0merr\u001b[0m \u001b[0;34m=\u001b[0m \u001b[0;34mf\"Could not interpret value `{val}` for parameter `{key}`\"\u001b[0m\u001b[0;34m\u001b[0m\u001b[0;34m\u001b[0m\u001b[0m\n\u001b[0;32m--> 902\u001b[0;31m                 \u001b[0;32mraise\u001b[0m \u001b[0mValueError\u001b[0m\u001b[0;34m(\u001b[0m\u001b[0merr\u001b[0m\u001b[0;34m)\u001b[0m\u001b[0;34m\u001b[0m\u001b[0;34m\u001b[0m\u001b[0m\n\u001b[0m\u001b[1;32m    903\u001b[0m \u001b[0;34m\u001b[0m\u001b[0m\n\u001b[1;32m    904\u001b[0m             \u001b[0;32melse\u001b[0m\u001b[0;34m:\u001b[0m\u001b[0;34m\u001b[0m\u001b[0;34m\u001b[0m\u001b[0m\n",
      "\u001b[0;31mValueError\u001b[0m: Could not interpret value `EFF` for parameter `x`"
     ]
    },
    {
     "data": {
      "image/png": "[encoded data removed]",
      "text/plain": [
       "<Figure size 432x288 with 2 Axes>"
      ]
     },
     "metadata": {
      "needs_background": "light"
     },
     "output_type": "display_data"
    }
   ],
   "source": [
    "stats_data(df_US, df_INT, 'EFF', 20, 40)"
   ]
  },
  {
   "cell_type": "markdown",
   "metadata": {
    "id": "69ElXjmfLqiP"
   },
   "source": [
    "### Points Per Possession\n",
    "\n",
    "Points per possession measures how effectively a player can score the ball during a theoretically time window calculated through FGA, FTA, and TOV. These stats are used because they tend to be representative of how long a player has been playing. The formula:\n",
    "\n",
    "$$\\frac{Points}{FGA+0.44*FTA+TOV}$$\n"
   ]
  },
  {
   "cell_type": "code",
   "execution_count": null,
   "metadata": {
    "colab": {
     "base_uri": "https://localhost:8080/",
     "height": 530
    },
    "id": "Tupl8FrYP3-h",
    "outputId": "4e18f801-ad8e-4d58-b308-7b07470c02ba"
   },
   "outputs": [],
   "source": [
    "def ppp_rating(US_data, INT_data, points, TO, FGA, FTA, bins):\n",
    "  \n",
    "  avg_US = US_data[points] / (US_data[FGA] + 0.44*US_data[FTA] + US_data[TO])\n",
    "  avg_INT = INT_data[points] / (INT_data[FGA] + 0.44*INT_data[FTA] + INT_data[TO])\n",
    "\n",
    "  fig, ax =plt.subplots(1,2)\n",
    "  sns.histplot(data=US_data, x=avg_US, bins=bins, color='#DDAFE8', ax=ax[0]).set(xlim=(0,1.5), title='United States')\n",
    "  sns.histplot(data=INT_data, x=avg_INT, bins=bins, color='#FA8775', ax=ax[1]).set(xlim=(0,1.5), title='International')\n",
    "  fig.show()\n",
    "\n",
    "print('Points Per Possession')\n",
    "ppp_rating(df_US, df_INT, 'PTS', 'TOV', 'FGA', 'FTA', 10)"
   ]
  },
  {
   "cell_type": "markdown",
   "metadata": {
    "id": "vGCZVG5QQsjA"
   },
   "source": [
    "Both distribution look to be centered at about 1."
   ]
  },
  {
   "cell_type": "markdown",
   "metadata": {
    "id": "Lm0CypFDfboX"
   },
   "source": [
    "### Interpretations\n",
    "\n",
    "From what we can see, US and international players' box score statistics tend to be the same besides some minor differences and skew between them. However, that still doesn't mean these groups are necessarily performing the same. For this next part we are going to compare two statistics together from each group(US and International). "
   ]
  },
  {
   "cell_type": "markdown",
   "metadata": {
    "id": "-wpHozhgyLYm"
   },
   "source": [
    "## Joint Stats EDA\n",
    "\n",
    "**Notes: Our team is currently doing more research on joint box score stats within the NBA. However, we believe these could be a good indicator into a player's offensive or defensive efficiency while on the court.**"
   ]
  },
  {
   "cell_type": "markdown",
   "metadata": {
    "id": "70ucUWT1yXgI"
   },
   "source": [
    "### Assits vs Steals"
   ]
  },
  {
   "cell_type": "code",
   "execution_count": null,
   "metadata": {
    "colab": {
     "base_uri": "https://localhost:8080/",
     "height": 1000
    },
    "id": "uxkvud03gO-8",
    "outputId": "04b9dd4e-1492-4a64-b600-a4ecd5f789dd"
   },
   "outputs": [],
   "source": [
    "print('United States')\n",
    "sns.jointplot(df_US['TOV'], df_US['AST'], xlim=(0,6), ylim=(0,12), kind='hex')\n",
    "\n",
    "print('International')\n",
    "sns.jointplot(df_INT['TOV'], df_INT['AST'], xlim=(0,6), ylim=(0,12), kind='hex')"
   ]
  },
  {
   "cell_type": "markdown",
   "metadata": {
    "id": "-5JgqypAydgv"
   },
   "source": [
    "### Minutes vs Field-Goal Percentage"
   ]
  },
  {
   "cell_type": "code",
   "execution_count": null,
   "metadata": {
    "colab": {
     "base_uri": "https://localhost:8080/",
     "height": 1000
    },
    "id": "35DS8clIruiY",
    "outputId": "f33e6045-c0bb-4af4-e613-ffe199335c37"
   },
   "outputs": [],
   "source": [
    "USA = df_US['FGM']/df_US['FGA']\n",
    "INT = df_INT['FGM']/df_INT['FGA']\n",
    "\n",
    "print('United States')\n",
    "sns.jointplot(USA, df_US['MIN'], xlim=(0,.7), ylim=(0,48), kind='hex')\n",
    "\n",
    "print('International')\n",
    "sns.jointplot(INT, df_INT['MIN'], xlim=(0,.7), ylim=(0,48), kind='hex')"
   ]
  },
  {
   "cell_type": "markdown",
   "metadata": {
    "id": "Tq0jjCoR7F2A"
   },
   "source": [
    "### Interpretations"
   ]
  },
  {
   "cell_type": "markdown",
   "metadata": {
    "id": "1b0noy55gJP0"
   },
   "source": [
    "## Season-by-Season EDA\n",
    "\n",
    "**Notes: This is the most useful category in our EDA because it shows how our two groups of players have performed over time. This also helps account for the fact that years closer to 2000 didn't have as many international players as there are now, which can be seen in some graphs.**"
   ]
  },
  {
   "cell_type": "code",
   "execution_count": null,
   "metadata": {
    "id": "DQpMeJ5QutfJ"
   },
   "outputs": [],
   "source": [
    "# Combine US and International data frames together for more indepth analysis\n",
    "df = pd.concat([df_US, df_INT]).reset_index()\n",
    "\n",
    "# Rename nationalities to 'United States' and 'International'\n",
    "df.loc[df['nationality'] != 'United States', 'nationality'] = 'International'\n",
    "\n",
    "# Relabel 'Season' column so values only contain the year the season was completed\n",
    "df['Season'] = df['Season'].str[7:]"
   ]
  },
  {
   "cell_type": "code",
   "execution_count": null,
   "metadata": {
    "id": "j5xeca0eysHc"
   },
   "outputs": [],
   "source": [
    "def compare_seasons_per(df, stat1, stat2):\n",
    "\n",
    "  percent = df[stat1] / df[stat2]\n",
    "\n",
    "  rcParams['figure.figsize'] = 15,8.27\n",
    "  sns.lineplot(data=df, x='Season', y=percent, hue='nationality')\n",
    "\n",
    "def compare_seasons_stat(df, stat):\n",
    "  \n",
    "  rcParams['figure.figsize'] = 15,8.27\n",
    "  sns.lineplot(data=df, x='Season', y=stat, hue='nationality')"
   ]
  },
  {
   "cell_type": "markdown",
   "metadata": {
    "id": "oKuxnuje0npL"
   },
   "source": [
    "### Field-Goal Percentage Since 2000"
   ]
  },
  {
   "cell_type": "code",
   "execution_count": null,
   "metadata": {
    "colab": {
     "base_uri": "https://localhost:8080/",
     "height": 511
    },
    "id": "nl99Cqrh0n7U",
    "outputId": "93cef239-e10b-4cf3-ff87-b5fc13cc762f"
   },
   "outputs": [],
   "source": [
    "# Calculating Field-Goal Percentage for every season between US and International players\n",
    "compare_seasons_per(df, 'FGM', 'FGA')"
   ]
  },
  {
   "cell_type": "markdown",
   "metadata": {
    "id": "GvuaSTRAUlbf"
   },
   "source": [
    "Over every season, international players have had a higher average FG% than US players."
   ]
  },
  {
   "cell_type": "markdown",
   "metadata": {
    "id": "bYor1HE-0oPE"
   },
   "source": [
    "### Free-Throw Percentage Since 2000"
   ]
  },
  {
   "cell_type": "code",
   "execution_count": null,
   "metadata": {
    "colab": {
     "base_uri": "https://localhost:8080/",
     "height": 515
    },
    "id": "Uq4PRxYn0og4",
    "outputId": "b62f8a2e-d993-4007-9790-fb45e73b6f04"
   },
   "outputs": [],
   "source": [
    "# Calculating Free Throw Percentage for every season between US and International players\n",
    "compare_seasons_per(df, 'FTM', 'FTA')"
   ]
  },
  {
   "cell_type": "markdown",
   "metadata": {
    "id": "4lgfKyrXVRbO"
   },
   "source": [
    "It is currently unknown by our team why free throw percentage was significantly lower for international players in the early 2000s. However, as time progresses we see that they begin to become closer together."
   ]
  },
  {
   "cell_type": "markdown",
   "metadata": {
    "id": "J3TiKfr7ytK_"
   },
   "source": [
    "### Rebounds Since 2000"
   ]
  },
  {
   "cell_type": "code",
   "execution_count": null,
   "metadata": {
    "colab": {
     "base_uri": "https://localhost:8080/",
     "height": 511
    },
    "id": "n7zVdksDgOC0",
    "outputId": "e4927fec-2bd4-45bb-81c7-895f380a7fe5"
   },
   "outputs": [],
   "source": [
    "# Calculate avg rebounds by each group over every season\n",
    "compare_seasons_stat(df, 'REB')"
   ]
  },
  {
   "cell_type": "markdown",
   "metadata": {
    "id": "m4NeypajVy26"
   },
   "source": [
    "Once again, we see that international players consistently have higher averages for rebounds compared to US players."
   ]
  },
  {
   "cell_type": "markdown",
   "metadata": {
    "id": "SwAYdLCwy6dj"
   },
   "source": [
    "### Assists Since 2000"
   ]
  },
  {
   "cell_type": "code",
   "execution_count": null,
   "metadata": {
    "colab": {
     "base_uri": "https://localhost:8080/",
     "height": 511
    },
    "id": "HEYG3z7Dy681",
    "outputId": "0aef9d24-387d-4c94-a2e2-024ed4bd59e6"
   },
   "outputs": [],
   "source": [
    "# Calculate avg assists by each group over every season\n",
    "compare_seasons_stat(df, 'AST')"
   ]
  },
  {
   "cell_type": "markdown",
   "metadata": {
    "id": "7HIYy2s7V_IH"
   },
   "source": [
    "Here we see that US players are consistently averaging more assists than international players, however it should be noted that they are still reletively close."
   ]
  },
  {
   "cell_type": "markdown",
   "metadata": {
    "id": "7daF8Vu1y7bN"
   },
   "source": [
    "### Steals Since 2000"
   ]
  },
  {
   "cell_type": "code",
   "execution_count": null,
   "metadata": {
    "colab": {
     "base_uri": "https://localhost:8080/",
     "height": 511
    },
    "id": "1gSuNTSSy7st",
    "outputId": "cf6b0fb4-d653-4708-b283-5be2b279ca5e"
   },
   "outputs": [],
   "source": [
    "# Calculate avg steals by each group over every season\n",
    "compare_seasons_stat(df, 'STL')"
   ]
  },
  {
   "cell_type": "markdown",
   "metadata": {
    "id": "9M-Nf9mhWQLO"
   },
   "source": [
    "We see that US players consistently averaged more steals than international players. However, we are unsure why international players had significantly lower averages in the early 2000s and then peaked. "
   ]
  },
  {
   "cell_type": "markdown",
   "metadata": {
    "id": "f1-VuKE7y8NV"
   },
   "source": [
    "### Blocks Since 2000"
   ]
  },
  {
   "cell_type": "code",
   "execution_count": null,
   "metadata": {
    "colab": {
     "base_uri": "https://localhost:8080/",
     "height": 511
    },
    "id": "YSKBBeCyy8md",
    "outputId": "c4e7e5a5-b28b-42a6-c3d2-510ea254d2ab"
   },
   "outputs": [],
   "source": [
    "# Calculate avg blocks by each group over every season\n",
    "compare_seasons_stat(df, 'BLK')"
   ]
  },
  {
   "cell_type": "markdown",
   "metadata": {
    "id": "rsraOtn2X8_3"
   },
   "source": [
    "We see that international players averaged more blocks than US players over every season."
   ]
  },
  {
   "cell_type": "markdown",
   "metadata": {
    "id": "Tm88k2HKzOVN"
   },
   "source": [
    "### Points Since 2000"
   ]
  },
  {
   "cell_type": "code",
   "execution_count": null,
   "metadata": {
    "colab": {
     "base_uri": "https://localhost:8080/",
     "height": 511
    },
    "id": "zojvmn-fzOlN",
    "outputId": "2cc8b965-9134-4525-b094-75bbb2a007ff"
   },
   "outputs": [],
   "source": [
    "# Calculate avg points by each group over every season\n",
    "compare_seasons_stat(df, 'PTS')"
   ]
  },
  {
   "cell_type": "markdown",
   "metadata": {
    "id": "kmUywIXUYYEP"
   },
   "source": [
    "We see that their averages tend to fluctuate a lot and they switch between having the higher average."
   ]
  },
  {
   "cell_type": "markdown",
   "metadata": {
    "id": "xdb7l90wzpV4"
   },
   "source": [
    "### Interpretations\n",
    "\n",
    "Here we are able to see trends over time of US players vs Internation players. This is helpful because over the past two decades international players have become more relevant in the NBA. Additionally, we can see that on average International players tend to do better in certain categories than US players."
   ]
  },
  {
   "cell_type": "markdown",
   "metadata": {},
   "source": [
    "## T-Test"
   ]
  },
  {
   "cell_type": "code",
   "execution_count": null,
   "metadata": {},
   "outputs": [],
   "source": [
    "from scipy.stats import ttest_ind, chisquare, normaltest"
   ]
  },
  {
   "cell_type": "code",
   "execution_count": null,
   "metadata": {},
   "outputs": [],
   "source": [
    "variables = list(['GP', 'MIN', 'FGM', 'FGA', '3PM', '3PA', 'FTM', 'FTA', 'TOV', 'PF', 'ORB', \n",
    "                  'DRB', 'REB', 'AST', 'STL', 'BLK', 'PTS', 'FG%', 'FT%', '3PFG%'])\n",
    "t = []\n",
    "for i in variables:\n",
    "    US = df_US[i]\n",
    "    INT = df_INT[i]\n",
    "    t.append(ttest_ind(US, INT))\n",
    "t_values= pd.DataFrame(data=t,index=variables,columns=[\"Test_Statistic\",\"p-value\"])\n",
    "t_values['Significance'] = t_values['p-value'] < 0.05\n",
    "t_values\n",
    "\n",
    "\n",
    "\n",
    "\n",
    "    "
   ]
  },
  {
   "cell_type": "markdown",
   "metadata": {
    "id": "9o6oTKzRDsb8"
   },
   "source": [
    "# Conclusion & Discussion\n",
    "\n",
    "**TODO: This**"
   ]
  },
  {
   "cell_type": "markdown",
   "metadata": {
    "id": "YxQ1_pSPDOrG"
   },
   "source": [
    "# Team Contributions\n",
    "\n",
    "**TODO: This**"
   ]
  },
  {
   "cell_type": "markdown",
   "metadata": {
    "id": "eqxClU6IY6y9"
   },
   "source": [
    "# ToDo\n",
    "\n",
    "* T-Tests\n",
    "  - In-depth analysis \n",
    "* Improved visualizations\n",
    "* Add extra references from research\n",
    "* Results/Conclusion"
   ]
  }
 ],
 "metadata": {
  "colab": {
   "collapsed_sections": [],
   "name": "FinalProjectGroup015-Fa21.ipynb",
   "provenance": []
  },
  "kernelspec": {
   "display_name": "Python 3 (ipykernel)",
   "language": "python",
   "name": "python3"
  },
  "language_info": {
   "codemirror_mode": {
    "name": "ipython",
    "version": 3
   },
   "file_extension": ".py",
   "mimetype": "text/x-python",
   "name": "python",
   "nbconvert_exporter": "python",
   "pygments_lexer": "ipython3",
   "version": "3.9.5"
  }
 },
 "nbformat": 4,
 "nbformat_minor": 1
}
