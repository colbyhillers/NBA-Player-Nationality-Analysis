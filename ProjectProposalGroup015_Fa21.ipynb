{
  "nbformat": 4,
  "nbformat_minor": 0,
  "metadata": {
    "kernelspec": {
      "display_name": "Python 3",
      "language": "python",
      "name": "python3"
    },
    "language_info": {
      "codemirror_mode": {
        "name": "ipython",
        "version": 3
      },
      "file_extension": ".py",
      "mimetype": "text/x-python",
      "name": "python",
      "nbconvert_exporter": "python",
      "pygments_lexer": "ipython3",
      "version": "3.7.9"
    },
    "colab": {
      "name": "ProjectProposalGroup015-Fa21.ipynb",
      "provenance": [],
      "collapsed_sections": []
    }
  },
  "cells": [
    {
      "cell_type": "markdown",
      "metadata": {
        "id": "ARGKxO1sLC_F"
      },
      "source": [
        "# COGS 108 - Final Project Proposal"
      ]
    },
    {
      "cell_type": "markdown",
      "metadata": {
        "id": "SekVl7qsLC_I"
      },
      "source": [
        "# Names\n",
        "\n",
        "- Colby Hillers\n",
        "- Calvin Cheung\n",
        "- Jorge Mendoza\n",
        "- Javon Maxie\n",
        "- Hoang Nguyen"
      ]
    },
    {
      "cell_type": "markdown",
      "metadata": {
        "id": "aD0sqWJyLC_J"
      },
      "source": [
        "# Research Question"
      ]
    },
    {
      "cell_type": "markdown",
      "metadata": {
        "id": "IAfY-lE_LC_J"
      },
      "source": [
        "In the NBA, over the regular season, do international players have a higher Efficiency Metric (EFF) than players born in the United States?"
      ]
    },
    {
      "cell_type": "markdown",
      "metadata": {
        "id": "p0gBFDQQLC_J"
      },
      "source": [
        "## Background and Prior Work"
      ]
    },
    {
      "cell_type": "markdown",
      "metadata": {
        "id": "FA7jZXQILC_K"
      },
      "source": [
        "  With the growing presence of international talent in the NBA, we wanted to compare the performances of international and national talent in the league. This international presence has been felt by other publications such as the Washington Post with their article \"How the NBA Went Global.\" This article highlights the steady growth and popularity of basketball in overseas areas and the effect it has had on the NBA. Throughout the years of watching NBA basketball, we are coming in with the prior knowledge that overseas talent have been making a notable inpact in the league. This knowledge has led us to examine, through empirical data, exactly how much of an impact these players are having.\n",
        "  \n",
        "  From our research thus far, we came across an article from Watts Basketball discussing how professionals in the league calculate player efficiency. We  decided to go with EFF which adds up total points, rebounds, assists, blocks, and steals, while also accounting for turnovers and missed field goals and free throws. We will then divide this score by the total amount of minutes played throughout the regular season for each individual player. We plan to do this for each season so we can also track how player performance fluctuates from season to season. As far as previous work, we failed to find any research that empirically compares the performance of national and international NBA players. Due to this, we plan on going in without the assistance of external research and seeing how far we can take it.\n",
        "\n",
        "References (include links):\n",
        "- 1) https://www.washingtonpost.com/news/made-by-history/wp/2017/12/26/how-the-nba-went-global/\n",
        "- 2) https://wattsbasketball.com/blog/how-to-calculate-player-efficiency-rating"
      ]
    },
    {
      "cell_type": "markdown",
      "metadata": {
        "id": "qsclMUUELC_K"
      },
      "source": [
        "# Hypothesis\n"
      ]
    },
    {
      "cell_type": "markdown",
      "metadata": {
        "id": "Kc3eVpegLC_K"
      },
      "source": [
        "Our hypothesis is that players that were born in the USA will on average have a higher EFF rating then international players. The reason we believe this is because American players tend to be better accustomed to playing in NBA when compared to international players. This is because international leagues have small differences in rules and regulations, so international palyers have to overcome that obstacle when playing."
      ]
    },
    {
      "cell_type": "markdown",
      "metadata": {
        "id": "zpDidPbjLC_L"
      },
      "source": [
        "# Data"
      ]
    },
    {
      "cell_type": "markdown",
      "metadata": {
        "id": "_xxJHAUkLC_L"
      },
      "source": [
        "The ideal dataset to answer this question would be one that contains every NBA player's offensive and defensive statistics, such as points, assists, rebounds, steals, blocks, turnovers, FGM, and FGA. This dataset would include every player that has played in the NBA, so there would be thousands of observations. We would group every player based on whether or not they were born in the USA and from there than compare the variables listed above between both groups. Additionally, we would realistically only need data from after 2000, this is because most international NBA players started to come over seas after basketball became popular in the 90s."
      ]
    },
    {
      "cell_type": "markdown",
      "metadata": {
        "id": "r98QPlcuLC_L"
      },
      "source": [
        "# Ethics & Privacy"
      ]
    },
    {
      "cell_type": "markdown",
      "metadata": {
        "id": "_0LWePldLC_M"
      },
      "source": [
        "All the data we plan to be taking is public knowledge, so we will not be violating anyone's privacy with our data. One ethical challenge we might face, however, is a bias toward American NBA player performance since almost more than 91% of the league is made up of players from the USA. This could put International players at a disadvantage to outperform American players. Additionally, some players come from less developed countries, so because of that they would be at a disadvantage when compared to American players. Another ethicality could be that some NBA franchises stay away from drafting international players because they are unfamiliar with them and their customs.\n"
      ]
    },
    {
      "cell_type": "markdown",
      "metadata": {
        "id": "SiYT7N42LC_M"
      },
      "source": [
        "# Team Expectations "
      ]
    },
    {
      "cell_type": "markdown",
      "metadata": {
        "id": "0k30NRqeLC_M"
      },
      "source": [
        "* Turn in on group related work on time \n",
        "* Do not procrastinate on your work for the group \n",
        "* Find good way to manage version control(git?)\n",
        "* Communicate clearly through discord for all aspects of project\n",
        "* Everyone participate in team meetings"
      ]
    },
    {
      "cell_type": "markdown",
      "metadata": {
        "id": "ElLatjInLC_M"
      },
      "source": [
        "# Project Timeline Proposal"
      ]
    },
    {
      "cell_type": "markdown",
      "metadata": {
        "id": "s8S1AfoFcrFB"
      },
      "source": [
        "Note: We weren't sure what to do with this since we haven't decided who's doing what in the project"
      ]
    },
    {
      "cell_type": "markdown",
      "metadata": {
        "id": "uZ9Bg8P5LC_M"
      },
      "source": [
        "| Meeting Date  | Meeting Time| Completed Before Meeting  | Discuss at Meeting |\n",
        "|---|---|---|---|\n",
        "| 10/21  |  7 PM | Read & Think about COGS 108 expectations; brainstorm topics/questions  | Determine best form of communication; Discuss and decide on final project topic; discuss hypothesis; begin background research | \n",
        "| 10/28  |  7 PM |  Do background research on topic | Discuss ideal dataset(s) and ethics; draft project proposal, submit project proposal | \n",
        "| 11/4  | 7 PM  | Search for datasets  | Discuss Wrangling and possible analytical approaches; Assign group members to lead each specific part, wrangle data, submit Data Checkpoint   |\n",
        "| 11/11  | 7 PM  | Import & Wrangle Data (Javon); EDA (Calvin) | Review/Edit wrangling/EDA; Discuss Analysis Plan   |\n",
        "| 11/18  | 7 PM  | Finalize wrangling/EDA; Begin Analysis (Colby; Hoang) | Discuss/edit Analysis; Complete project check-in |\n",
        "| 11/25  | 7 PM  | Complete analysis; Draft results/conclusion/discussion (Jorge)| Discuss/edit full project |\n",
        "| 12/2  | 7 PM  | NA | Turn in Final Project & Group Project Surveys |\n"
      ]
    }
  ]
}