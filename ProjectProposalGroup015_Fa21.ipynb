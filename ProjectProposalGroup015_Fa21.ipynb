{
  "nbformat": 4,
  "nbformat_minor": 2,
  "metadata": {
    "kernelspec": {
      "display_name": "Python 3",
      "language": "python",
      "name": "python3"
    },
    "language_info": {
      "codemirror_mode": {
        "name": "ipython",
        "version": 3
      },
      "file_extension": ".py",
      "mimetype": "text/x-python",
      "name": "python",
      "nbconvert_exporter": "python",
      "pygments_lexer": "ipython3",
      "version": "3.7.9"
    },
    "colab": {
      "name": "ProjectProposalGroup015-Fa21.ipynb",
      "provenance": [],
      "collapsed_sections": []
    }
  },
  "cells": [
    {
      "cell_type": "markdown",
      "source": [
        "# COGS 108 - Final Project Proposal"
      ],
      "metadata": {
        "id": "ARGKxO1sLC_F"
      }
    },
    {
      "cell_type": "markdown",
      "source": [
        "# Names\n",
        "\n",
        "- Colby Hillers\n",
        "- Calvin Cheung\n",
        "- Jorge Mendoza\n",
        "- Javon Maxie\n",
        "- Hoang Nguyen"
      ],
      "metadata": {
        "id": "SekVl7qsLC_I"
      }
    },
    {
      "cell_type": "markdown",
      "source": [
        "# Research Question"
      ],
      "metadata": {
        "id": "aD0sqWJyLC_J"
      }
    },
    {
      "cell_type": "markdown",
      "source": [
        "In the NBA, have international players performed better than players born in the United States?"
      ],
      "metadata": {
        "id": "IAfY-lE_LC_J"
      }
    },
    {
      "cell_type": "markdown",
      "source": [
        "## Background and Prior Work"
      ],
      "metadata": {
        "id": "p0gBFDQQLC_J"
      }
    },
    {
      "cell_type": "markdown",
      "source": [
        "With the growing presence of international talent in the NBA, we wanted to compare the performances of international and national talent in the league. This international presence has been felt by other publications such as the Washington Post with their article \"How the NBA Went Global.\" An article published by Samford University also contributes to this with their title \"How the NBA Went Global.\"\n",
        "\n",
        "References (include links):\n",
        "- 1) https://www.samford.edu/sports-analytics/fans/2020/The-Growth-of-International-Players-in-the-NBA\n",
        "- 2) https://www.washingtonpost.com/news/made-by-history/wp/2017/12/26/how-the-nba-went-global/"
      ],
      "metadata": {
        "id": "FA7jZXQILC_K"
      }
    },
    {
      "cell_type": "markdown",
      "source": [
        "# Hypothesis\n"
      ],
      "metadata": {
        "id": "qsclMUUELC_K"
      }
    },
    {
      "cell_type": "markdown",
      "source": [
        "Our hypothesis is that players that were born in the USA perform better in the NBA."
      ],
      "metadata": {
        "id": "Kc3eVpegLC_K"
      }
    },
    {
      "cell_type": "markdown",
      "source": [
        "# Data"
      ],
      "metadata": {
        "id": "zpDidPbjLC_L"
      }
    },
    {
      "cell_type": "markdown",
      "source": [
        "The ideal dataset to answer this question would be one that contains every NBA player's career statistics(Points, assists, rebounds, etc), their all-star appearances, how many championships they've won, and whether or not they are in the Hall of Fame. Ideally, we would group every player based on whether or not they were born in the USA and from there than compare the variables listed above between both groups."
      ],
      "metadata": {
        "id": "_xxJHAUkLC_L"
      }
    },
    {
      "cell_type": "markdown",
      "source": [
        "# Ethics & Privacy"
      ],
      "metadata": {
        "id": "r98QPlcuLC_L"
      }
    },
    {
      "cell_type": "markdown",
      "source": [
        "All the data we plan to be taking is public knowledge, so we will not be violating anyone's privacy with our data. One ethical challenge we might face, however, is a bias toward American NBA player performance since almost more than 91% of the league is made up of players from the USA. This could put International players at a disadvantage to outperform American players \n"
      ],
      "metadata": {
        "id": "_0LWePldLC_M"
      }
    },
    {
      "cell_type": "markdown",
      "source": [
        "# Team Expectations "
      ],
      "metadata": {
        "id": "SiYT7N42LC_M"
      }
    },
    {
      "cell_type": "markdown",
      "source": [
        "* Turn in on group related work on time \n",
        "* Do not procrastinate on your work for the group \n",
        "* Find good way to manage version control(git?)\n",
        "* Communicate clearly through discord for all aspects of project\n",
        "* Everyone participate in team meetings"
      ],
      "metadata": {
        "id": "0k30NRqeLC_M"
      }
    },
    {
      "cell_type": "markdown",
      "source": [
        "# Project Timeline Proposal"
      ],
      "metadata": {
        "id": "ElLatjInLC_M"
      }
    },
    {
      "cell_type": "markdown",
      "source": [
        "Note: We weren't sure what to do with this since we haven't decided who's doing what in the project"
      ],
      "metadata": {
        "id": "s8S1AfoFcrFB"
      }
    },
    {
      "cell_type": "markdown",
      "source": [
        "| Meeting Date  | Meeting Time| Completed Before Meeting  | Discuss at Meeting |\n",
        "|---|---|---|---|\n",
        "| 1/20  |  1 PM | Read & Think about COGS 108 expectations; brainstorm topics/questions  | Determine best form of communication; Discuss and decide on final project topic; discuss hypothesis; begin background research | \n",
        "| 1/26  |  10 AM |  Do background research on topic | Discuss ideal dataset(s) and ethics; draft project proposal | \n",
        "| 2/1  | 10 AM  | Edit, finalize, and submit proposal; Search for datasets  | Discuss Wrangling and possible analytical approaches; Assign group members to lead each specific part   |\n",
        "| 2/14  | 6 PM  | Import & Wrangle Data (Ant Man); EDA (Hulk) | Review/Edit wrangling/EDA; Discuss Analysis Plan   |\n",
        "| 2/23  | 12 PM  | Finalize wrangling/EDA; Begin Analysis (Iron Man; Thor) | Discuss/edit Analysis; Complete project check-in |\n",
        "| 3/13  | 12 PM  | Complete analysis; Draft results/conclusion/discussion (Wasp)| Discuss/edit full project |\n",
        "| 3/19  | Before 11:59 PM  | NA | Turn in Final Project & Group Project Surveys |"
      ],
      "metadata": {
        "id": "uZ9Bg8P5LC_M"
      }
    }
  ]
}